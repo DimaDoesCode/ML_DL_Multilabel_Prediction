{
 "cells": [
  {
   "cell_type": "markdown",
   "id": "f9b88a4b",
   "metadata": {},
   "source": [
    "# Проект: предсказание следующей покупки пользователя."
   ]
  },
  {
   "cell_type": "markdown",
   "id": "4c829fe1",
   "metadata": {},
   "source": [
    "<div align=\"right\"><font size=\"4\">DimaDoesCode</font><br>\n",
    "<font size=\"3\">March 6th, 2024</font></div>"
   ]
  },
  {
   "cell_type": "markdown",
   "id": "c9f4ac69",
   "metadata": {
    "toc": true
   },
   "source": [
    "<h1>Оглавление.<span class=\"tocSkip\"></span></h1>\n",
    "<div class=\"toc\"><ul class=\"toc-item\"><li><span><a href=\"#Настройка-проекта.\" data-toc-modified-id=\"Настройка-проекта.-1\"><span class=\"toc-item-num\">1&nbsp;&nbsp;</span>Настройка проекта.</a></span><ul class=\"toc-item\"><li><span><a href=\"#Импорт-библиотек,-модулей,-классов-и-функций.\" data-toc-modified-id=\"Импорт-библиотек,-модулей,-классов-и-функций.-1.1\"><span class=\"toc-item-num\">1.1&nbsp;&nbsp;</span>Импорт библиотек, модулей, классов и функций.</a></span></li><li><span><a href=\"#Настройка-окружения-и-глобальные-переменные.\" data-toc-modified-id=\"Настройка-окружения-и-глобальные-переменные.-1.2\"><span class=\"toc-item-num\">1.2&nbsp;&nbsp;</span>Настройка окружения и глобальные переменные.</a></span></li><li><span><a href=\"#Пользовательские-функции.\" data-toc-modified-id=\"Пользовательские-функции.-1.3\"><span class=\"toc-item-num\">1.3&nbsp;&nbsp;</span>Пользовательские функции.</a></span></li></ul></li><li><span><a href=\"#Загрузка-данных.\" data-toc-modified-id=\"Загрузка-данных.-2\"><span class=\"toc-item-num\">2&nbsp;&nbsp;</span>Загрузка данных.</a></span></li><li><span><a href=\"#Исследовательский-анализ-данных.\" data-toc-modified-id=\"Исследовательский-анализ-данных.-3\"><span class=\"toc-item-num\">3&nbsp;&nbsp;</span>Исследовательский анализ данных.</a></span><ul class=\"toc-item\"><li><span><a href=\"#Внешний-вид-данных.\" data-toc-modified-id=\"Внешний-вид-данных.-3.1\"><span class=\"toc-item-num\">3.1&nbsp;&nbsp;</span>Внешний вид данных.</a></span></li><li><span><a href=\"#Описание-данных.\" data-toc-modified-id=\"Описание-данных.-3.2\"><span class=\"toc-item-num\">3.2&nbsp;&nbsp;</span>Описание данных.</a></span><ul class=\"toc-item\"><li><span><a href=\"#Статистика-данных.\" data-toc-modified-id=\"Статистика-данных.-3.2.1\"><span class=\"toc-item-num\">3.2.1&nbsp;&nbsp;</span>Статистика данных.</a></span></li><li><span><a href=\"#Гистограмма-распределения-заказов-по-покупателям.\" data-toc-modified-id=\"Гистограмма-распределения-заказов-по-покупателям.-3.2.2\"><span class=\"toc-item-num\">3.2.2&nbsp;&nbsp;</span>Гистограмма распределения заказов по покупателям.</a></span></li></ul></li><li><span><a href=\"#Эксперимент-с-отсечкой-данных.\" data-toc-modified-id=\"Эксперимент-с-отсечкой-данных.-3.3\"><span class=\"toc-item-num\">3.3&nbsp;&nbsp;</span>Эксперимент с отсечкой данных.</a></span></li></ul></li><li><span><a href=\"#Подготовка-признаков.\" data-toc-modified-id=\"Подготовка-признаков.-4\"><span class=\"toc-item-num\">4&nbsp;&nbsp;</span>Подготовка признаков.</a></span><ul class=\"toc-item\"><li><span><a href=\"#Создание-списка-уникальных-категорий-товара.\" data-toc-modified-id=\"Создание-списка-уникальных-категорий-товара.-4.1\"><span class=\"toc-item-num\">4.1&nbsp;&nbsp;</span>Создание списка уникальных категорий товара.</a></span></li><li><span><a href=\"#Сортировка-и-группировка-данных.\" data-toc-modified-id=\"Сортировка-и-группировка-данных.-4.2\"><span class=\"toc-item-num\">4.2&nbsp;&nbsp;</span>Сортировка и группировка данных.</a></span></li><li><span><a href=\"#Целевой-признак.\" data-toc-modified-id=\"Целевой-признак.-4.3\"><span class=\"toc-item-num\">4.3&nbsp;&nbsp;</span>Целевой признак.</a></span><ul class=\"toc-item\"><li><span><a href=\"#Создание.\" data-toc-modified-id=\"Создание.-4.3.1\"><span class=\"toc-item-num\">4.3.1&nbsp;&nbsp;</span>Создание.</a></span></li><li><span><a href=\"#Векторизация.\" data-toc-modified-id=\"Векторизация.-4.3.2\"><span class=\"toc-item-num\">4.3.2&nbsp;&nbsp;</span>Векторизация.</a></span></li></ul></li><li><span><a href=\"#Извлечение-дополнительных-признаков-из-дат.\" data-toc-modified-id=\"Извлечение-дополнительных-признаков-из-дат.-4.4\"><span class=\"toc-item-num\">4.4&nbsp;&nbsp;</span>Извлечение дополнительных признаков из дат.</a></span></li><li><span><a href=\"#Масштабирование-time_diff.\" data-toc-modified-id=\"Масштабирование-time_diff.-4.5\"><span class=\"toc-item-num\">4.5&nbsp;&nbsp;</span>Масштабирование time_diff.</a></span></li><li><span><a href=\"#Последовательные-признаки.\" data-toc-modified-id=\"Последовательные-признаки.-4.6\"><span class=\"toc-item-num\">4.6&nbsp;&nbsp;</span>Последовательные признаки.</a></span><ul class=\"toc-item\"><li><span><a href=\"#Создание.\" data-toc-modified-id=\"Создание.-4.6.1\"><span class=\"toc-item-num\">4.6.1&nbsp;&nbsp;</span>Создание.</a></span></li><li><span><a href=\"#Кодирование.\" data-toc-modified-id=\"Кодирование.-4.6.2\"><span class=\"toc-item-num\">4.6.2&nbsp;&nbsp;</span>Кодирование.</a></span></li></ul></li><li><span><a href=\"#Фиксированные-признаки.\" data-toc-modified-id=\"Фиксированные-признаки.-4.7\"><span class=\"toc-item-num\">4.7&nbsp;&nbsp;</span>Фиксированные признаки.</a></span><ul class=\"toc-item\"><li><span><a href=\"#Создание.\" data-toc-modified-id=\"Создание.-4.7.1\"><span class=\"toc-item-num\">4.7.1&nbsp;&nbsp;</span>Создание.</a></span></li><li><span><a href=\"#Масштабирование.\" data-toc-modified-id=\"Масштабирование.-4.7.2\"><span class=\"toc-item-num\">4.7.2&nbsp;&nbsp;</span>Масштабирование.</a></span></li></ul></li></ul></li><li><span><a href=\"#Создание-обучающих-наборов.\" data-toc-modified-id=\"Создание-обучающих-наборов.-5\"><span class=\"toc-item-num\">5&nbsp;&nbsp;</span>Создание обучающих наборов.</a></span><ul class=\"toc-item\"><li><span><a href=\"#Создание-обучающего-набора-данных.\" data-toc-modified-id=\"Создание-обучающего-набора-данных.-5.1\"><span class=\"toc-item-num\">5.1&nbsp;&nbsp;</span>Создание обучающего набора данных.</a></span></li></ul></li><li><span><a href=\"#Создание-и-обучение-модели.\" data-toc-modified-id=\"Создание-и-обучение-модели.-6\"><span class=\"toc-item-num\">6&nbsp;&nbsp;</span>Создание и обучение модели.</a></span><ul class=\"toc-item\"><li><span><a href=\"#Построение-fully-connected-feed-forward-модели.\" data-toc-modified-id=\"Построение-fully-connected-feed-forward-модели.-6.1\"><span class=\"toc-item-num\">6.1&nbsp;&nbsp;</span>Построение fully-connected feed-forward модели.</a></span></li><li><span><a href=\"#Обучение-модели.\" data-toc-modified-id=\"Обучение-модели.-6.2\"><span class=\"toc-item-num\">6.2&nbsp;&nbsp;</span>Обучение модели.</a></span></li></ul></li><li><span><a href=\"#Обработка-предсказаний-модели.\" data-toc-modified-id=\"Обработка-предсказаний-модели.-7\"><span class=\"toc-item-num\">7&nbsp;&nbsp;</span>Обработка предсказаний модели.</a></span><ul class=\"toc-item\"><li><span><a href=\"#Определение-лучшего-порога.\" data-toc-modified-id=\"Определение-лучшего-порога.-7.1\"><span class=\"toc-item-num\">7.1&nbsp;&nbsp;</span>Определение лучшего порога.</a></span></li><li><span><a href=\"#Бинаризация-предсказаний.\" data-toc-modified-id=\"Бинаризация-предсказаний.-7.2\"><span class=\"toc-item-num\">7.2&nbsp;&nbsp;</span>Бинаризация предсказаний.</a></span></li></ul></li><li><span><a href=\"#Подготовка-сабмита.\" data-toc-modified-id=\"Подготовка-сабмита.-8\"><span class=\"toc-item-num\">8&nbsp;&nbsp;</span>Подготовка сабмита.</a></span><ul class=\"toc-item\"><li><span><a href=\"#Создание-матрицы-покупки-user_id---category.\" data-toc-modified-id=\"Создание-матрицы-покупки-user_id---category.-8.1\"><span class=\"toc-item-num\">8.1&nbsp;&nbsp;</span>Создание матрицы покупки user_id - category.</a></span></li><li><span><a href=\"#Внешний-вид-сабмита.\" data-toc-modified-id=\"Внешний-вид-сабмита.-8.2\"><span class=\"toc-item-num\">8.2&nbsp;&nbsp;</span>Внешний вид сабмита.</a></span></li><li><span><a href=\"#Заполнение-и-сохранение-сабмита.\" data-toc-modified-id=\"Заполнение-и-сохранение-сабмита.-8.3\"><span class=\"toc-item-num\">8.3&nbsp;&nbsp;</span>Заполнение и сохранение сабмита.</a></span></li></ul></li><li><span><a href=\"#Вывод.\" data-toc-modified-id=\"Вывод.-9\"><span class=\"toc-item-num\">9&nbsp;&nbsp;</span>Вывод.</a></span></li></ul></div>"
   ]
  },
  {
   "cell_type": "markdown",
   "id": "136b84d1",
   "metadata": {},
   "source": [
    "# Описание проекта."
   ]
  },
  {
   "cell_type": "markdown",
   "id": "6bfffc27",
   "metadata": {},
   "source": [
    "<img src=\"https://s3.amazonaws.com/thumbnails.illustrationsource.com/huge.0.796.JPG\" width=\"210\" align=\"left\"/> Сервисы доставки еды уже давно перестали быть просто курьерами, которые привозят заказ. Индустрия e-grocery стремительно идет к аккумулированию и использованию больших данных, чтобы знать о своих пользователях больше и предоставлять более качественные и персонализированные услуги. Одним из шагов к такой персонализации может быть разработка модели, которая понимает привычки и нужды пользователя, и, к примеру, может угадать, что и когда пользователь захочет заказать в следующий раз.\n",
    "\n",
    "Такая модель, будучи разработанной, может принести значительную ценность для клиента - сэкономить время при сборке корзины, помочь ничего не забыть в заказе, убрать необходимость планировать закупки и следить за заканчивающимися запасами продуктов.\n",
    "\n",
    "В данном соревновании участникам предлагается решить задачу предсказания следующего заказа пользователя (безотносительно конкретного момента времени, когда этот заказ произойдет). Заказ пользователя состоит из списка уникальных категорий товаров, вне зависимости от того, сколько продуктов каждой категории он взял."
   ]
  },
  {
   "cell_type": "markdown",
   "id": "592d104d",
   "metadata": {},
   "source": [
    "# Описание данных."
   ]
  },
  {
   "cell_type": "markdown",
   "id": "2560b896",
   "metadata": {},
   "source": [
    "В качестве тренировочных данных представляется датасет с историей заказов $20000$ пользователей вплоть до даты отсечки, которая разделяет тренировочные и тестовые данные по времени.\n",
    "\n",
    "<b>train.csv:</b><br>\n",
    "`user_id` - уникальный id пользователя\n",
    "`order_completed_at` - дата заказа\n",
    "`cart` - список уникальных категорий (`category_id`), из которых состоял заказ\n",
    "В качестве прогноза необходимо для каждой пары пользователь-категория из примера сабмита вернуть $1$, если категория будет присутствовать в следующем заказе пользователя, или $0$ в ином случае. Список категорий для каждого пользователя примере сабмита - это все категории, которые он когда-либо заказывал.\n",
    "\n",
    "<b>sample_submission.csv:</b><br>\n",
    "Пример сабмита. В тест входят не все пользователи из тренировочных данных, так как некоторые из них так ничего и не заказали после даты отсечки.\n",
    "\n",
    "id - идентификатор строки - состоит из `user_id` и `category_id`, разделенных точкой с запятой: `f'{user_id};{category_id}'`. Из-за особенностей проверяющей системы Kaggle InClass, использовать колонки `user_id`, `category_id` в качестве индекса отдельно невозможно.<br>\n",
    "target - $1$ или $0$ - будет ли данная категория присутствовать в следующем заказе пользователя"
   ]
  },
  {
   "cell_type": "markdown",
   "id": "1c8a3c31",
   "metadata": {},
   "source": [
    "# Оценка."
   ]
  },
  {
   "cell_type": "markdown",
   "id": "a3aae14d",
   "metadata": {},
   "source": [
    "Метрикой оценки для этого соревнования является FScoreBeta с beta = 1, что дает обычную F1-метрику. F1-метрика, обычно используемая в информационном поиске, измеряет точность с использованием статистики precision (точность) p и recall (полнота) r. Точность - это отношение истинных положительных результатов (tp) ко всем предсказанным положительным результатам (tp + fp). Полнота - это отношение истинных положительных результатов ко всем фактическим положительным результатам (tp + fn). F1-метрика вычисляется по формуле:\n",
    "$$\n",
    "F1 = 2\\frac{p \\cdot r}{p+r}\\ \\ \\mathrm{где}\\ \\ p = \\frac{tp}{tp+fp},\\ \\ r = \\frac{tp}{tp+fn}\n",
    "$$\n",
    "F1-метрика равнозначно учитывает полноту и точность, и хороший алгоритм поиска будет максимизировать и точность, и полноту одновременно. Таким образом, умеренно хорошее выполнение и точности, и полноты будет предпочтительнее, чем чрезмерно хорошее выполнение одного и плохое выполнение другого."
   ]
  },
  {
   "cell_type": "markdown",
   "id": "81942786",
   "metadata": {},
   "source": [
    "# Предлагаемое решение."
   ]
  },
  {
   "cell_type": "markdown",
   "id": "7dc3303d",
   "metadata": {},
   "source": [
    "Собранные данные о заказах содержат информацию о дате и времени покупки. На следующем этапе входные данные будут адаптированы для регрессионной модели путем преобразования информации о дате/времени в значение, которое будет обозначать количество дней, прошедших между предыдущей соответствующей покупкой и текущей покупкой. Таким образом, временной ряд, описывающий историю покупок, будет содержать серию чисел, каждое из которых будет представлять количество дней, прошедших между двумя последовательными покупками. Для создания временного ряда потребуется как минимум две соответствующие покупки, но для лучших результатов предпочтительно иметь большее количество.\n",
    "\n",
    "Поскольку цель исследования будет заключаться в прогнозировании категорий товара, которые будут включены в следующую покупку клиента, транзакции будут агрегированы по дате/времени, чтобы включить все продукты из одной покупки. Результатом будет список всех категорий продуктов в покупке.\n",
    "\n",
    "Затем будут получены векторы категорий для всей покупки. Полученный признак, используемый для прогнозирования, будет закодированным вектором, где каждый элемент будет представлять наличие определенной категории товара в покупке. Заключительным этапом будет преобразование всей этой информации в временные ряды и статичные данные для обучения и тестирования нейронной сети feed-forward."
   ]
  },
  {
   "cell_type": "markdown",
   "id": "f3aed050",
   "metadata": {},
   "source": [
    "## Настройка проекта."
   ]
  },
  {
   "cell_type": "markdown",
   "id": "95048995",
   "metadata": {},
   "source": [
    "### Импорт библиотек, модулей, классов и функций."
   ]
  },
  {
   "cell_type": "code",
   "execution_count": 1,
   "id": "3c28e684",
   "metadata": {},
   "outputs": [],
   "source": [
    "import warnings\n",
    "warnings.simplefilter(\"ignore\")"
   ]
  },
  {
   "cell_type": "code",
   "execution_count": 2,
   "id": "01c3df18",
   "metadata": {},
   "outputs": [
    {
     "name": "stdout",
     "output_type": "stream",
     "text": [
      "WARNING:tensorflow:From C:\\ProgramData\\anaconda3\\Lib\\site-packages\\keras\\src\\losses.py:2976: The name tf.losses.sparse_softmax_cross_entropy is deprecated. Please use tf.compat.v1.losses.sparse_softmax_cross_entropy instead.\n",
      "\n"
     ]
    }
   ],
   "source": [
    "import matplotlib.pyplot as plt\n",
    "import numpy as np\n",
    "import pandas as pd\n",
    "import tensorflow as tf\n",
    "\n",
    "from sklearn.metrics import f1_score\n",
    "from sklearn.preprocessing import MinMaxScaler\n",
    "from tensorflow.keras import backend as K\n",
    "from tensorflow.keras.models import Model, Sequential\n",
    "from tensorflow.keras.layers import Input, Concatenate, Dense\n",
    "from tensorflow.keras.utils import plot_model, to_categorical\n",
    "from tqdm import tqdm"
   ]
  },
  {
   "cell_type": "markdown",
   "id": "99d93e22",
   "metadata": {},
   "source": [
    "### Настройка окружения и глобальные переменные."
   ]
  },
  {
   "cell_type": "markdown",
   "id": "b6475a98",
   "metadata": {},
   "source": [
    "Для использования в данном проекте зафиксируем начальное состояние генератора псевдослучайных чисел и маску для заполнения пропущенных значений при векторизации."
   ]
  },
  {
   "cell_type": "code",
   "execution_count": 3,
   "id": "06e16b62",
   "metadata": {},
   "outputs": [],
   "source": [
    "MASK_VALUE: float = 0.0\n",
    "RANDOM_STATE: int = 42"
   ]
  },
  {
   "cell_type": "markdown",
   "id": "f70bc705",
   "metadata": {},
   "source": [
    "Также проведем небольшую настройку окружения для стандартизации вывода результатов."
   ]
  },
  {
   "cell_type": "code",
   "execution_count": 4,
   "id": "fb397b65",
   "metadata": {},
   "outputs": [],
   "source": [
    "pd.options.display.float_format = '{:,.3f}'.format\n",
    "plt.style.use('ggplot')\n",
    "tqdm.pandas()"
   ]
  },
  {
   "cell_type": "markdown",
   "id": "f104745c",
   "metadata": {},
   "source": [
    "### Пользовательские функции."
   ]
  },
  {
   "cell_type": "markdown",
   "id": "4c3190cc",
   "metadata": {},
   "source": [
    "Определим необходимые функции для рассчета метрики F1"
   ]
  },
  {
   "cell_type": "code",
   "execution_count": 5,
   "id": "fdeab873",
   "metadata": {},
   "outputs": [],
   "source": [
    "def recall_m(y_true: tf.Tensor, y_pred: tf.Tensor) -> tf.Tensor:\n",
    "    \"\"\"\n",
    "    Рассчитывает метрику recall для бинарной классификации.\n",
    "\n",
    "    Аргументы:\n",
    "    y_true: Tensor, истинные метки классов (ground truth).\n",
    "    y_pred: Tensor, предсказанные метки классов.\n",
    "\n",
    "    Возвращает:\n",
    "    Tensor, значение метрики recall.\n",
    "    \"\"\"\n",
    "    true_positives = K.sum(K.round(K.clip(y_true * y_pred, 0, 1)))\n",
    "    possible_positives = K.sum(K.round(K.clip(y_true, 0, 1)))\n",
    "    recall = true_positives / (possible_positives + K.epsilon())\n",
    "    return recall"
   ]
  },
  {
   "cell_type": "code",
   "execution_count": 6,
   "id": "58f8fbbb",
   "metadata": {},
   "outputs": [],
   "source": [
    "def precision_m(y_true: tf.Tensor, y_pred: tf.Tensor) -> tf.Tensor:\n",
    "    \"\"\"\n",
    "    Рассчитывает метрику precision для бинарной классификации.\n",
    "\n",
    "    Аргументы:\n",
    "    y_true: Tensor, истинные метки классов (ground truth).\n",
    "    y_pred: Tensor, предсказанные метки классов.\n",
    "\n",
    "    Возвращает:\n",
    "    Tensor, значение метрики precision.\n",
    "    \"\"\"\n",
    "    true_positives: tf.Tensor = K.sum(K.round(K.clip(y_true * y_pred, 0, 1)))\n",
    "    predicted_positives: tf.Tensor = K.sum(K.round(K.clip(y_pred, 0, 1)))\n",
    "    precision: tf.Tensor = true_positives / (predicted_positives + K.epsilon())\n",
    "    return precision"
   ]
  },
  {
   "cell_type": "code",
   "execution_count": 7,
   "id": "bcbe3f77",
   "metadata": {},
   "outputs": [],
   "source": [
    "def f1_m(y_true: tf.Tensor, y_pred: tf.Tensor) -> tf.Tensor:\n",
    "    \"\"\"\n",
    "    Рассчитывает метрику F1-score для бинарной классификации.\n",
    "\n",
    "    Аргументы:\n",
    "    y_true: Tensor, истинные метки классов (ground truth).\n",
    "    y_pred: Tensor, предсказанные метки классов.\n",
    "\n",
    "    Возвращает:\n",
    "    Tensor, значение метрики F1-score.\n",
    "    \"\"\"\n",
    "    precision: tf.Tensor = precision_m(y_true, y_pred)\n",
    "    recall: tf.Tensor = recall_m(y_true, y_pred)\n",
    "    return 2*((precision*recall)/(precision+recall+K.epsilon()))"
   ]
  },
  {
   "cell_type": "markdown",
   "id": "8916522a",
   "metadata": {},
   "source": [
    "А также функцию для получения результата предсказаний в требуемой форме."
   ]
  },
  {
   "cell_type": "code",
   "execution_count": 8,
   "id": "e1927fb3",
   "metadata": {},
   "outputs": [],
   "source": [
    "def get_value(df: pd.DataFrame) -> float:\n",
    "    \"\"\"\n",
    "    Получает значение из purchases_map для заданного пользователя и категории.\n",
    "\n",
    "    Аргументы:\n",
    "    df: DataFrame, DataFrame, содержащий информацию о пользователе и категории.\n",
    "\n",
    "    Возвращает:\n",
    "    float, значение из purchases_map для заданного пользователя и категории, \n",
    "    либо 0.0, если значение не найдено.\n",
    "    \"\"\"\n",
    "    user_id: int = df['user_id']\n",
    "    category: str = df['category']\n",
    "    try:\n",
    "        value: float = purchases_map.at[int(user_id), category]\n",
    "    except KeyError:\n",
    "        value: float = 0.0\n",
    "    return value"
   ]
  },
  {
   "cell_type": "markdown",
   "id": "90157744",
   "metadata": {},
   "source": [
    "## Загрузка данных."
   ]
  },
  {
   "cell_type": "code",
   "execution_count": 9,
   "id": "b6dd01f3",
   "metadata": {
    "code_folding": []
   },
   "outputs": [],
   "source": [
    "train: pd.DataFrame = pd.read_csv(\n",
    "    'train.csv',\n",
    "    parse_dates=['order_completed_at'],\n",
    "    dtype={'cart': 'category'}\n",
    ")"
   ]
  },
  {
   "cell_type": "markdown",
   "id": "e3abe389",
   "metadata": {},
   "source": [
    "## Исследовательский анализ данных."
   ]
  },
  {
   "cell_type": "markdown",
   "id": "98281ffd",
   "metadata": {},
   "source": [
    "### Внешний вид данных."
   ]
  },
  {
   "cell_type": "code",
   "execution_count": 10,
   "id": "a64d643f",
   "metadata": {},
   "outputs": [
    {
     "data": {
      "text/html": [
       "<div>\n",
       "<style scoped>\n",
       "    .dataframe tbody tr th:only-of-type {\n",
       "        vertical-align: middle;\n",
       "    }\n",
       "\n",
       "    .dataframe tbody tr th {\n",
       "        vertical-align: top;\n",
       "    }\n",
       "\n",
       "    .dataframe thead th {\n",
       "        text-align: right;\n",
       "    }\n",
       "</style>\n",
       "<table border=\"1\" class=\"dataframe\">\n",
       "  <thead>\n",
       "    <tr style=\"text-align: right;\">\n",
       "      <th></th>\n",
       "      <th>user_id</th>\n",
       "      <th>order_completed_at</th>\n",
       "      <th>cart</th>\n",
       "    </tr>\n",
       "  </thead>\n",
       "  <tbody>\n",
       "    <tr>\n",
       "      <th>0</th>\n",
       "      <td>2</td>\n",
       "      <td>2015-03-22 09:25:46</td>\n",
       "      <td>399</td>\n",
       "    </tr>\n",
       "    <tr>\n",
       "      <th>1</th>\n",
       "      <td>2</td>\n",
       "      <td>2015-03-22 09:25:46</td>\n",
       "      <td>14</td>\n",
       "    </tr>\n",
       "    <tr>\n",
       "      <th>2</th>\n",
       "      <td>2</td>\n",
       "      <td>2015-03-22 09:25:46</td>\n",
       "      <td>198</td>\n",
       "    </tr>\n",
       "    <tr>\n",
       "      <th>3</th>\n",
       "      <td>2</td>\n",
       "      <td>2015-03-22 09:25:46</td>\n",
       "      <td>88</td>\n",
       "    </tr>\n",
       "    <tr>\n",
       "      <th>4</th>\n",
       "      <td>2</td>\n",
       "      <td>2015-03-22 09:25:46</td>\n",
       "      <td>157</td>\n",
       "    </tr>\n",
       "  </tbody>\n",
       "</table>\n",
       "</div>"
      ],
      "text/plain": [
       "   user_id  order_completed_at cart\n",
       "0        2 2015-03-22 09:25:46  399\n",
       "1        2 2015-03-22 09:25:46   14\n",
       "2        2 2015-03-22 09:25:46  198\n",
       "3        2 2015-03-22 09:25:46   88\n",
       "4        2 2015-03-22 09:25:46  157"
      ]
     },
     "execution_count": 10,
     "metadata": {},
     "output_type": "execute_result"
    }
   ],
   "source": [
    "train.head()"
   ]
  },
  {
   "cell_type": "code",
   "execution_count": 11,
   "id": "d37cc01a",
   "metadata": {},
   "outputs": [
    {
     "data": {
      "image/png": "[encoded data removed]",
      "text/plain": [
       "<Figure size 800x400 with 1 Axes>"
      ]
     },
     "metadata": {},
     "output_type": "display_data"
    }
   ],
   "source": [
    "plt.figure(figsize=(8, 4))\n",
    "plt.hist(train['order_completed_at'], bins='auto', color='steelblue')\n",
    "plt.xlabel('Date')\n",
    "plt.ylabel('Number of Customers')\n",
    "plt.title('Date Distribution Histogram')\n",
    "plt.grid(axis='y', linestyle='--', alpha=0.7)\n",
    "plt.grid(axis='x', linestyle='--', alpha=0.7)\n",
    "plt.show()"
   ]
  },
  {
   "cell_type": "markdown",
   "id": "2749f687",
   "metadata": {},
   "source": [
    "Распределение данных явно указывает на четырехлетний застой в продажах магазина, который начал значительно возрастать начиная с 2019 года из-за определенных причин. Рост обнаруживает явно выраженную пятиволновую структуру и должен достигнуть максимума к 2022 году."
   ]
  },
  {
   "cell_type": "markdown",
   "id": "1201ec21",
   "metadata": {},
   "source": [
    "### Описание данных."
   ]
  },
  {
   "cell_type": "code",
   "execution_count": 12,
   "id": "afa9f56e",
   "metadata": {},
   "outputs": [
    {
     "name": "stdout",
     "output_type": "stream",
     "text": [
      "<class 'pandas.core.frame.DataFrame'>\n",
      "RangeIndex: 3123064 entries, 0 to 3123063\n",
      "Data columns (total 3 columns):\n",
      " #   Column              Dtype         \n",
      "---  ------              -----         \n",
      " 0   user_id             int64         \n",
      " 1   order_completed_at  datetime64[ns]\n",
      " 2   cart                category      \n",
      "dtypes: category(1), datetime64[ns](1), int64(1)\n",
      "memory usage: 53.6 MB\n"
     ]
    }
   ],
   "source": [
    "train.info(verbose=True)"
   ]
  },
  {
   "cell_type": "markdown",
   "id": "6660e113",
   "metadata": {},
   "source": [
    "#### Статистика данных."
   ]
  },
  {
   "cell_type": "code",
   "execution_count": 13,
   "id": "baebac8a",
   "metadata": {},
   "outputs": [
    {
     "data": {
      "text/html": [
       "<div>\n",
       "<style scoped>\n",
       "    .dataframe tbody tr th:only-of-type {\n",
       "        vertical-align: middle;\n",
       "    }\n",
       "\n",
       "    .dataframe tbody tr th {\n",
       "        vertical-align: top;\n",
       "    }\n",
       "\n",
       "    .dataframe thead th {\n",
       "        text-align: right;\n",
       "    }\n",
       "</style>\n",
       "<table border=\"1\" class=\"dataframe\">\n",
       "  <thead>\n",
       "    <tr style=\"text-align: right;\">\n",
       "      <th></th>\n",
       "      <th>user_id</th>\n",
       "      <th>order_completed_at</th>\n",
       "      <th>cart</th>\n",
       "    </tr>\n",
       "  </thead>\n",
       "  <tbody>\n",
       "    <tr>\n",
       "      <th>count</th>\n",
       "      <td>3,123,064.000</td>\n",
       "      <td>3123064</td>\n",
       "      <td>3123064</td>\n",
       "    </tr>\n",
       "    <tr>\n",
       "      <th>unique</th>\n",
       "      <td>NaN</td>\n",
       "      <td>NaN</td>\n",
       "      <td>881</td>\n",
       "    </tr>\n",
       "    <tr>\n",
       "      <th>top</th>\n",
       "      <td>NaN</td>\n",
       "      <td>NaN</td>\n",
       "      <td>57</td>\n",
       "    </tr>\n",
       "    <tr>\n",
       "      <th>freq</th>\n",
       "      <td>NaN</td>\n",
       "      <td>NaN</td>\n",
       "      <td>108877</td>\n",
       "    </tr>\n",
       "    <tr>\n",
       "      <th>mean</th>\n",
       "      <td>7,253.373</td>\n",
       "      <td>2020-04-09 01:17:00.182836992</td>\n",
       "      <td>NaN</td>\n",
       "    </tr>\n",
       "    <tr>\n",
       "      <th>min</th>\n",
       "      <td>0.000</td>\n",
       "      <td>2015-03-22 09:25:46</td>\n",
       "      <td>NaN</td>\n",
       "    </tr>\n",
       "    <tr>\n",
       "      <th>25%</th>\n",
       "      <td>2,884.000</td>\n",
       "      <td>2020-02-03 06:03:43</td>\n",
       "      <td>NaN</td>\n",
       "    </tr>\n",
       "    <tr>\n",
       "      <th>50%</th>\n",
       "      <td>6,055.000</td>\n",
       "      <td>2020-05-19 06:35:20</td>\n",
       "      <td>NaN</td>\n",
       "    </tr>\n",
       "    <tr>\n",
       "      <th>75%</th>\n",
       "      <td>11,172.000</td>\n",
       "      <td>2020-07-14 04:50:22</td>\n",
       "      <td>NaN</td>\n",
       "    </tr>\n",
       "    <tr>\n",
       "      <th>max</th>\n",
       "      <td>19,999.000</td>\n",
       "      <td>2020-09-03 23:45:45</td>\n",
       "      <td>NaN</td>\n",
       "    </tr>\n",
       "    <tr>\n",
       "      <th>std</th>\n",
       "      <td>5,337.838</td>\n",
       "      <td>NaN</td>\n",
       "      <td>NaN</td>\n",
       "    </tr>\n",
       "  </tbody>\n",
       "</table>\n",
       "</div>"
      ],
      "text/plain": [
       "             user_id             order_completed_at     cart\n",
       "count  3,123,064.000                        3123064  3123064\n",
       "unique           NaN                            NaN      881\n",
       "top              NaN                            NaN       57\n",
       "freq             NaN                            NaN   108877\n",
       "mean       7,253.373  2020-04-09 01:17:00.182836992      NaN\n",
       "min            0.000            2015-03-22 09:25:46      NaN\n",
       "25%        2,884.000            2020-02-03 06:03:43      NaN\n",
       "50%        6,055.000            2020-05-19 06:35:20      NaN\n",
       "75%       11,172.000            2020-07-14 04:50:22      NaN\n",
       "max       19,999.000            2020-09-03 23:45:45      NaN\n",
       "std        5,337.838                            NaN      NaN"
      ]
     },
     "execution_count": 13,
     "metadata": {},
     "output_type": "execute_result"
    }
   ],
   "source": [
    "train.describe(include='all')"
   ]
  },
  {
   "cell_type": "markdown",
   "id": "4a1a150c",
   "metadata": {},
   "source": [
    "#### Гистограмма распределения заказов по покупателям."
   ]
  },
  {
   "cell_type": "code",
   "execution_count": 14,
   "id": "57e36c32",
   "metadata": {},
   "outputs": [],
   "source": [
    "orders_per_customer: pd.Series = train.groupby('user_id').size()"
   ]
  },
  {
   "cell_type": "code",
   "execution_count": 15,
   "id": "b311b0d7",
   "metadata": {
    "scrolled": false
   },
   "outputs": [
    {
     "data": {
      "image/png": "[encoded data removed]",
      "text/plain": [
       "<Figure size 800x400 with 1 Axes>"
      ]
     },
     "metadata": {},
     "output_type": "display_data"
    }
   ],
   "source": [
    "plt.figure(figsize=(8, 4))\n",
    "plt.hist(orders_per_customer, bins='auto', color='steelblue')\n",
    "plt.xlabel('Number of Orders')\n",
    "plt.ylabel('Number of Customers')\n",
    "plt.title('Histogram of Number of Orders per Customer')\n",
    "plt.grid(axis='y', linestyle='--', alpha=0.7)\n",
    "plt.grid(axis='x', linestyle='--', alpha=0.7)\n",
    "plt.show()"
   ]
  },
  {
   "cell_type": "markdown",
   "id": "e0a441aa",
   "metadata": {},
   "source": [
    "Распределение количества заказов по покупателям обнаруживает ярко выраженную форму Пуассоновского распределения и не содержит значительных аномалий."
   ]
  },
  {
   "cell_type": "markdown",
   "id": "d3ee83ff",
   "metadata": {},
   "source": [
    "### Эксперимент с отсечкой данных."
   ]
  },
  {
   "cell_type": "markdown",
   "id": "cb77bbfe",
   "metadata": {},
   "source": [
    "Однако, имея представление о поведении покупателей, можно предположить, что их интересы к товарам меняются со временем. Например, они могут проявлять интерес к товарам в течение года, а затем изменить предпочтения. Для анализа мы можем оставить только ту часть покупок, которая началась с момента увеличения популярности магазина, то есть с 2019 года."
   ]
  },
  {
   "cell_type": "code",
   "execution_count": 16,
   "id": "dd12e759",
   "metadata": {},
   "outputs": [
    {
     "data": {
      "text/plain": [
       "Timestamp('2015-03-22 09:25:46')"
      ]
     },
     "execution_count": 16,
     "metadata": {},
     "output_type": "execute_result"
    }
   ],
   "source": [
    "train['order_completed_at'].min()"
   ]
  },
  {
   "cell_type": "code",
   "execution_count": 17,
   "id": "80cb1e4a",
   "metadata": {},
   "outputs": [
    {
     "data": {
      "text/plain": [
       "Timestamp('2020-09-03 23:45:45')"
      ]
     },
     "execution_count": 17,
     "metadata": {},
     "output_type": "execute_result"
    }
   ],
   "source": [
    "train['order_completed_at'].max()"
   ]
  },
  {
   "cell_type": "code",
   "execution_count": 18,
   "id": "f992df30",
   "metadata": {},
   "outputs": [],
   "source": [
    "specified_date: pd.Timestamp = pd.to_datetime('2019-09-01')\n",
    "\n",
    "filtered_train: pd.DataFrame = train[\n",
    "    train['order_completed_at'] >= specified_date\n",
    "]"
   ]
  },
  {
   "cell_type": "code",
   "execution_count": 19,
   "id": "6eb30a75",
   "metadata": {},
   "outputs": [
    {
     "data": {
      "image/png": "[encoded data removed]",
      "text/plain": [
       "<Figure size 800x400 with 1 Axes>"
      ]
     },
     "metadata": {},
     "output_type": "display_data"
    }
   ],
   "source": [
    "plt.figure(figsize=(8, 4))\n",
    "plt.hist(\n",
    "    filtered_train['order_completed_at'],\n",
    "    bins='auto',\n",
    "    color='steelblue'\n",
    ")\n",
    "plt.xlabel('Date')\n",
    "plt.ylabel('Number of Customers')\n",
    "plt.title('Date Distribution Histogram')\n",
    "plt.grid(axis='y', linestyle='--', alpha=0.7)\n",
    "plt.grid(axis='x', linestyle='--', alpha=0.75)\n",
    "plt.xticks(rotation=20)\n",
    "plt.show()"
   ]
  },
  {
   "cell_type": "markdown",
   "id": "ae6e6847",
   "metadata": {},
   "source": [
    "```python\n",
    "dates: pd.DatetimeIndex = pd.date_range(\n",
    "    start=min(filtered_train['order_completed_at']),\n",
    "    end=max(filtered_train['order_completed_at']),\n",
    "    freq='MS'\n",
    ")\n",
    "\n",
    "formatted_dates: list[str] = dates.strftime('%Y-%m')\n",
    "\n",
    "plt.figure(figsize=(8, 4))\n",
    "plt.hist(\n",
    "    filtered_train['order_completed_at'],\n",
    "    bins='auto',\n",
    "    color='steelblue'\n",
    ")\n",
    "plt.xlabel('Date')\n",
    "plt.ylabel('Number of Customers')\n",
    "plt.title('Date Distribution Histogram')\n",
    "plt.grid(axis='y', linestyle='--', alpha=0.7)\n",
    "plt.grid(axis='x', linestyle='--', alpha=0.75)\n",
    "\n",
    "plt.xticks(dates, formatted_dates, rotation=45)\n",
    "\n",
    "plt.show()\n",
    "```"
   ]
  },
  {
   "cell_type": "code",
   "execution_count": 20,
   "id": "d2a43169",
   "metadata": {},
   "outputs": [],
   "source": [
    "train = filtered_train"
   ]
  },
  {
   "cell_type": "markdown",
   "id": "049873ca",
   "metadata": {},
   "source": [
    "## Подготовка признаков."
   ]
  },
  {
   "cell_type": "markdown",
   "id": "6d01fb44",
   "metadata": {},
   "source": [
    "На основе доступных временных данных необходимо создать дополнительные синтетические признаки, которые будут использоваться моделью во время обучения."
   ]
  },
  {
   "cell_type": "markdown",
   "id": "b297d767",
   "metadata": {},
   "source": [
    "### Создание списка уникальных категорий товара."
   ]
  },
  {
   "cell_type": "code",
   "execution_count": 21,
   "id": "4f723c2a",
   "metadata": {},
   "outputs": [],
   "source": [
    "categories: list[str] = sorted(train['cart'].unique())"
   ]
  },
  {
   "cell_type": "code",
   "execution_count": 22,
   "id": "c96dc6e6",
   "metadata": {},
   "outputs": [
    {
     "name": "stdout",
     "output_type": "stream",
     "text": [
      "876\n"
     ]
    }
   ],
   "source": [
    "print(len(categories))"
   ]
  },
  {
   "cell_type": "markdown",
   "id": "9ba0bac9",
   "metadata": {},
   "source": [
    "### Сортировка и группировка данных."
   ]
  },
  {
   "cell_type": "code",
   "execution_count": 23,
   "id": "9551271c",
   "metadata": {},
   "outputs": [],
   "source": [
    "train_sorted: pd.DataFrame = train.sort_values(\n",
    "    by=['order_completed_at', 'user_id']\n",
    ").reset_index(drop=True)"
   ]
  },
  {
   "cell_type": "code",
   "execution_count": 24,
   "id": "3d0d32cb",
   "metadata": {},
   "outputs": [],
   "source": [
    "train_grouped: pd.DataFrame = train_sorted.groupby(\n",
    "    ['user_id', 'order_completed_at']\n",
    ").agg({'cart': 'unique'}).reset_index()"
   ]
  },
  {
   "cell_type": "code",
   "execution_count": 25,
   "id": "8017aa3b",
   "metadata": {},
   "outputs": [
    {
     "data": {
      "text/html": [
       "<div>\n",
       "<style scoped>\n",
       "    .dataframe tbody tr th:only-of-type {\n",
       "        vertical-align: middle;\n",
       "    }\n",
       "\n",
       "    .dataframe tbody tr th {\n",
       "        vertical-align: top;\n",
       "    }\n",
       "\n",
       "    .dataframe thead th {\n",
       "        text-align: right;\n",
       "    }\n",
       "</style>\n",
       "<table border=\"1\" class=\"dataframe\">\n",
       "  <thead>\n",
       "    <tr style=\"text-align: right;\">\n",
       "      <th></th>\n",
       "      <th>user_id</th>\n",
       "      <th>order_completed_at</th>\n",
       "      <th>cart</th>\n",
       "    </tr>\n",
       "  </thead>\n",
       "  <tbody>\n",
       "    <tr>\n",
       "      <th>0</th>\n",
       "      <td>0</td>\n",
       "      <td>2020-07-19 09:59:17</td>\n",
       "      <td>['20', '82', '441', '57', '14', '405', '430', ...</td>\n",
       "    </tr>\n",
       "    <tr>\n",
       "      <th>1</th>\n",
       "      <td>0</td>\n",
       "      <td>2020-08-24 08:55:32</td>\n",
       "      <td>['133', '5', '26', '10', '382', ..., '57', '39...</td>\n",
       "    </tr>\n",
       "    <tr>\n",
       "      <th>2</th>\n",
       "      <td>0</td>\n",
       "      <td>2020-09-02 07:38:25</td>\n",
       "      <td>['803', '170', '84', '61', '440', ..., '55', '...</td>\n",
       "    </tr>\n",
       "    <tr>\n",
       "      <th>3</th>\n",
       "      <td>1</td>\n",
       "      <td>2019-05-08 16:09:41</td>\n",
       "      <td>['55']\n",
       "Categories (881, object): ['0', '1', '1...</td>\n",
       "    </tr>\n",
       "    <tr>\n",
       "      <th>4</th>\n",
       "      <td>1</td>\n",
       "      <td>2020-01-17 14:44:23</td>\n",
       "      <td>['82', '798', '86', '421', '204', '55']\n",
       "Catego...</td>\n",
       "    </tr>\n",
       "  </tbody>\n",
       "</table>\n",
       "</div>"
      ],
      "text/plain": [
       "   user_id  order_completed_at  \\\n",
       "0        0 2020-07-19 09:59:17   \n",
       "1        0 2020-08-24 08:55:32   \n",
       "2        0 2020-09-02 07:38:25   \n",
       "3        1 2019-05-08 16:09:41   \n",
       "4        1 2020-01-17 14:44:23   \n",
       "\n",
       "                                                cart  \n",
       "0  ['20', '82', '441', '57', '14', '405', '430', ...  \n",
       "1  ['133', '5', '26', '10', '382', ..., '57', '39...  \n",
       "2  ['803', '170', '84', '61', '440', ..., '55', '...  \n",
       "3  ['55']\n",
       "Categories (881, object): ['0', '1', '1...  \n",
       "4  ['82', '798', '86', '421', '204', '55']\n",
       "Catego...  "
      ]
     },
     "execution_count": 25,
     "metadata": {},
     "output_type": "execute_result"
    }
   ],
   "source": [
    "train_grouped.head()"
   ]
  },
  {
   "cell_type": "markdown",
   "id": "5b007acb",
   "metadata": {},
   "source": [
    "### Целевой признак."
   ]
  },
  {
   "cell_type": "markdown",
   "id": "b0c31d17",
   "metadata": {},
   "source": [
    "#### Создание."
   ]
  },
  {
   "cell_type": "code",
   "execution_count": 26,
   "id": "939723f1",
   "metadata": {},
   "outputs": [],
   "source": [
    "target: pd.DataFrame = train_grouped.groupby('user_id').agg(\n",
    "    {'cart': lambda x: list(set(y for sublist in x for y in sublist))}\n",
    ").reset_index()"
   ]
  },
  {
   "cell_type": "code",
   "execution_count": 27,
   "id": "7d2ca9e2",
   "metadata": {},
   "outputs": [
    {
     "data": {
      "text/html": [
       "<div>\n",
       "<style scoped>\n",
       "    .dataframe tbody tr th:only-of-type {\n",
       "        vertical-align: middle;\n",
       "    }\n",
       "\n",
       "    .dataframe tbody tr th {\n",
       "        vertical-align: top;\n",
       "    }\n",
       "\n",
       "    .dataframe thead th {\n",
       "        text-align: right;\n",
       "    }\n",
       "</style>\n",
       "<table border=\"1\" class=\"dataframe\">\n",
       "  <thead>\n",
       "    <tr style=\"text-align: right;\">\n",
       "      <th></th>\n",
       "      <th>user_id</th>\n",
       "      <th>cart</th>\n",
       "    </tr>\n",
       "  </thead>\n",
       "  <tbody>\n",
       "    <tr>\n",
       "      <th>0</th>\n",
       "      <td>0</td>\n",
       "      <td>[82, 799, 84, 83, 398, 133, 401, 396, 57, 430,...</td>\n",
       "    </tr>\n",
       "    <tr>\n",
       "      <th>1</th>\n",
       "      <td>1</td>\n",
       "      <td>[82, 421, 204, 149, 169, 307, 54, 55, 798, 302...</td>\n",
       "    </tr>\n",
       "    <tr>\n",
       "      <th>2</th>\n",
       "      <td>2</td>\n",
       "      <td>[82, 159, 412, 431, 398, 139, 43, 396, 57, 203...</td>\n",
       "    </tr>\n",
       "    <tr>\n",
       "      <th>3</th>\n",
       "      <td>3</td>\n",
       "      <td>[412, 84, 398, 43, 442, 77, 57, 92, 430, 16, 2...</td>\n",
       "    </tr>\n",
       "    <tr>\n",
       "      <th>4</th>\n",
       "      <td>4</td>\n",
       "      <td>[50, 431, 799, 84, 102, 398, 21, 89, 421, 133,...</td>\n",
       "    </tr>\n",
       "  </tbody>\n",
       "</table>\n",
       "</div>"
      ],
      "text/plain": [
       "   user_id                                               cart\n",
       "0        0  [82, 799, 84, 83, 398, 133, 401, 396, 57, 430,...\n",
       "1        1  [82, 421, 204, 149, 169, 307, 54, 55, 798, 302...\n",
       "2        2  [82, 159, 412, 431, 398, 139, 43, 396, 57, 203...\n",
       "3        3  [412, 84, 398, 43, 442, 77, 57, 92, 430, 16, 2...\n",
       "4        4  [50, 431, 799, 84, 102, 398, 21, 89, 421, 133,..."
      ]
     },
     "execution_count": 27,
     "metadata": {},
     "output_type": "execute_result"
    }
   ],
   "source": [
    "target.head()"
   ]
  },
  {
   "cell_type": "markdown",
   "id": "c31452f1",
   "metadata": {},
   "source": [
    "#### Векторизация."
   ]
  },
  {
   "cell_type": "markdown",
   "id": "1f5685c1",
   "metadata": {},
   "source": [
    "Для использования в качестве целевой переменной покупки должны быть векторизованы по категориям."
   ]
  },
  {
   "cell_type": "code",
   "execution_count": 28,
   "id": "79f81518",
   "metadata": {},
   "outputs": [
    {
     "name": "stderr",
     "output_type": "stream",
     "text": [
      "100%|███████████████████████████████████████████████████████████████████████████| 20000/20000 [00:23<00:00, 842.27it/s]\n"
     ]
    }
   ],
   "source": [
    "target['cart_vector'] = target['cart'].progress_apply(\n",
    "    lambda x: [1 if category in x else 0 for category in categories]\n",
    ")"
   ]
  },
  {
   "cell_type": "code",
   "execution_count": 29,
   "id": "a28bd3f8",
   "metadata": {},
   "outputs": [],
   "source": [
    "target_prepared: pd.DataFrame = pd.DataFrame(np.vstack(target['cart_vector'].apply(np.array)))"
   ]
  },
  {
   "cell_type": "code",
   "execution_count": 30,
   "id": "f47c611d",
   "metadata": {},
   "outputs": [
    {
     "data": {
      "text/html": [
       "<div>\n",
       "<style scoped>\n",
       "    .dataframe tbody tr th:only-of-type {\n",
       "        vertical-align: middle;\n",
       "    }\n",
       "\n",
       "    .dataframe tbody tr th {\n",
       "        vertical-align: top;\n",
       "    }\n",
       "\n",
       "    .dataframe thead th {\n",
       "        text-align: right;\n",
       "    }\n",
       "</style>\n",
       "<table border=\"1\" class=\"dataframe\">\n",
       "  <thead>\n",
       "    <tr style=\"text-align: right;\">\n",
       "      <th></th>\n",
       "      <th>0</th>\n",
       "      <th>1</th>\n",
       "      <th>2</th>\n",
       "      <th>3</th>\n",
       "      <th>4</th>\n",
       "      <th>5</th>\n",
       "      <th>6</th>\n",
       "      <th>7</th>\n",
       "      <th>8</th>\n",
       "      <th>9</th>\n",
       "      <th>...</th>\n",
       "      <th>866</th>\n",
       "      <th>867</th>\n",
       "      <th>868</th>\n",
       "      <th>869</th>\n",
       "      <th>870</th>\n",
       "      <th>871</th>\n",
       "      <th>872</th>\n",
       "      <th>873</th>\n",
       "      <th>874</th>\n",
       "      <th>875</th>\n",
       "    </tr>\n",
       "  </thead>\n",
       "  <tbody>\n",
       "    <tr>\n",
       "      <th>0</th>\n",
       "      <td>0</td>\n",
       "      <td>0</td>\n",
       "      <td>1</td>\n",
       "      <td>0</td>\n",
       "      <td>0</td>\n",
       "      <td>0</td>\n",
       "      <td>0</td>\n",
       "      <td>0</td>\n",
       "      <td>0</td>\n",
       "      <td>0</td>\n",
       "      <td>...</td>\n",
       "      <td>0</td>\n",
       "      <td>0</td>\n",
       "      <td>0</td>\n",
       "      <td>0</td>\n",
       "      <td>0</td>\n",
       "      <td>0</td>\n",
       "      <td>0</td>\n",
       "      <td>0</td>\n",
       "      <td>0</td>\n",
       "      <td>0</td>\n",
       "    </tr>\n",
       "    <tr>\n",
       "      <th>1</th>\n",
       "      <td>0</td>\n",
       "      <td>0</td>\n",
       "      <td>0</td>\n",
       "      <td>0</td>\n",
       "      <td>0</td>\n",
       "      <td>0</td>\n",
       "      <td>0</td>\n",
       "      <td>0</td>\n",
       "      <td>0</td>\n",
       "      <td>0</td>\n",
       "      <td>...</td>\n",
       "      <td>0</td>\n",
       "      <td>0</td>\n",
       "      <td>0</td>\n",
       "      <td>0</td>\n",
       "      <td>0</td>\n",
       "      <td>0</td>\n",
       "      <td>0</td>\n",
       "      <td>0</td>\n",
       "      <td>0</td>\n",
       "      <td>0</td>\n",
       "    </tr>\n",
       "    <tr>\n",
       "      <th>2</th>\n",
       "      <td>1</td>\n",
       "      <td>0</td>\n",
       "      <td>0</td>\n",
       "      <td>1</td>\n",
       "      <td>0</td>\n",
       "      <td>0</td>\n",
       "      <td>0</td>\n",
       "      <td>0</td>\n",
       "      <td>0</td>\n",
       "      <td>0</td>\n",
       "      <td>...</td>\n",
       "      <td>0</td>\n",
       "      <td>0</td>\n",
       "      <td>0</td>\n",
       "      <td>0</td>\n",
       "      <td>0</td>\n",
       "      <td>0</td>\n",
       "      <td>0</td>\n",
       "      <td>0</td>\n",
       "      <td>0</td>\n",
       "      <td>0</td>\n",
       "    </tr>\n",
       "    <tr>\n",
       "      <th>3</th>\n",
       "      <td>0</td>\n",
       "      <td>0</td>\n",
       "      <td>0</td>\n",
       "      <td>1</td>\n",
       "      <td>0</td>\n",
       "      <td>0</td>\n",
       "      <td>0</td>\n",
       "      <td>0</td>\n",
       "      <td>0</td>\n",
       "      <td>0</td>\n",
       "      <td>...</td>\n",
       "      <td>0</td>\n",
       "      <td>1</td>\n",
       "      <td>1</td>\n",
       "      <td>0</td>\n",
       "      <td>0</td>\n",
       "      <td>0</td>\n",
       "      <td>0</td>\n",
       "      <td>0</td>\n",
       "      <td>0</td>\n",
       "      <td>0</td>\n",
       "    </tr>\n",
       "    <tr>\n",
       "      <th>4</th>\n",
       "      <td>0</td>\n",
       "      <td>0</td>\n",
       "      <td>0</td>\n",
       "      <td>1</td>\n",
       "      <td>1</td>\n",
       "      <td>1</td>\n",
       "      <td>0</td>\n",
       "      <td>0</td>\n",
       "      <td>0</td>\n",
       "      <td>0</td>\n",
       "      <td>...</td>\n",
       "      <td>0</td>\n",
       "      <td>0</td>\n",
       "      <td>0</td>\n",
       "      <td>0</td>\n",
       "      <td>0</td>\n",
       "      <td>0</td>\n",
       "      <td>0</td>\n",
       "      <td>0</td>\n",
       "      <td>1</td>\n",
       "      <td>1</td>\n",
       "    </tr>\n",
       "  </tbody>\n",
       "</table>\n",
       "<p>5 rows × 876 columns</p>\n",
       "</div>"
      ],
      "text/plain": [
       "   0    1    2    3    4    5    6    7    8    9    ...  866  867  868  869  \\\n",
       "0    0    0    1    0    0    0    0    0    0    0  ...    0    0    0    0   \n",
       "1    0    0    0    0    0    0    0    0    0    0  ...    0    0    0    0   \n",
       "2    1    0    0    1    0    0    0    0    0    0  ...    0    0    0    0   \n",
       "3    0    0    0    1    0    0    0    0    0    0  ...    0    1    1    0   \n",
       "4    0    0    0    1    1    1    0    0    0    0  ...    0    0    0    0   \n",
       "\n",
       "   870  871  872  873  874  875  \n",
       "0    0    0    0    0    0    0  \n",
       "1    0    0    0    0    0    0  \n",
       "2    0    0    0    0    0    0  \n",
       "3    0    0    0    0    0    0  \n",
       "4    0    0    0    0    1    1  \n",
       "\n",
       "[5 rows x 876 columns]"
      ]
     },
     "execution_count": 30,
     "metadata": {},
     "output_type": "execute_result"
    }
   ],
   "source": [
    "target_prepared.head()"
   ]
  },
  {
   "cell_type": "code",
   "execution_count": 31,
   "id": "54f3482a",
   "metadata": {},
   "outputs": [
    {
     "data": {
      "text/plain": [
       "(20000, 876)"
      ]
     },
     "execution_count": 31,
     "metadata": {},
     "output_type": "execute_result"
    }
   ],
   "source": [
    "target_prepared.shape"
   ]
  },
  {
   "cell_type": "markdown",
   "id": "92fbf00b",
   "metadata": {},
   "source": [
    "### Извлечение дополнительных признаков из дат."
   ]
  },
  {
   "cell_type": "markdown",
   "id": "bd75336f",
   "metadata": {},
   "source": [
    "Дни между покупками."
   ]
  },
  {
   "cell_type": "code",
   "execution_count": 32,
   "id": "e872125f",
   "metadata": {},
   "outputs": [],
   "source": [
    "train_grouped[\n",
    "    'time_diff'\n",
    "] = train_grouped[\n",
    "    'order_completed_at'\n",
    "].diff().dt.days.fillna(0).astype(int)\n",
    "\n",
    "train_grouped['time_diff'] = train_grouped['time_diff'].apply(\n",
    "    lambda x: x if x >= 0 else 0\n",
    ")"
   ]
  },
  {
   "cell_type": "markdown",
   "id": "d2ec9d8a",
   "metadata": {},
   "source": [
    "Дни недели, месяцы и годы покупок."
   ]
  },
  {
   "cell_type": "code",
   "execution_count": 33,
   "id": "8c6f751a",
   "metadata": {},
   "outputs": [],
   "source": [
    "train_grouped['weekday'] = train_grouped['order_completed_at'].dt.weekday\n",
    "train_grouped['month'] = train_grouped['order_completed_at'].dt.month\n",
    "train_grouped['year'] = train_grouped['order_completed_at'].dt.year - 2010"
   ]
  },
  {
   "cell_type": "code",
   "execution_count": 34,
   "id": "2dc353ea",
   "metadata": {},
   "outputs": [
    {
     "data": {
      "text/html": [
       "<div>\n",
       "<style scoped>\n",
       "    .dataframe tbody tr th:only-of-type {\n",
       "        vertical-align: middle;\n",
       "    }\n",
       "\n",
       "    .dataframe tbody tr th {\n",
       "        vertical-align: top;\n",
       "    }\n",
       "\n",
       "    .dataframe thead th {\n",
       "        text-align: right;\n",
       "    }\n",
       "</style>\n",
       "<table border=\"1\" class=\"dataframe\">\n",
       "  <thead>\n",
       "    <tr style=\"text-align: right;\">\n",
       "      <th></th>\n",
       "      <th>user_id</th>\n",
       "      <th>order_completed_at</th>\n",
       "      <th>cart</th>\n",
       "      <th>time_diff</th>\n",
       "      <th>weekday</th>\n",
       "      <th>month</th>\n",
       "      <th>year</th>\n",
       "    </tr>\n",
       "  </thead>\n",
       "  <tbody>\n",
       "    <tr>\n",
       "      <th>0</th>\n",
       "      <td>0</td>\n",
       "      <td>2020-07-19 09:59:17</td>\n",
       "      <td>['20', '82', '441', '57', '14', '405', '430', ...</td>\n",
       "      <td>0</td>\n",
       "      <td>6</td>\n",
       "      <td>7</td>\n",
       "      <td>10</td>\n",
       "    </tr>\n",
       "    <tr>\n",
       "      <th>1</th>\n",
       "      <td>0</td>\n",
       "      <td>2020-08-24 08:55:32</td>\n",
       "      <td>['133', '5', '26', '10', '382', ..., '57', '39...</td>\n",
       "      <td>35</td>\n",
       "      <td>0</td>\n",
       "      <td>8</td>\n",
       "      <td>10</td>\n",
       "    </tr>\n",
       "    <tr>\n",
       "      <th>2</th>\n",
       "      <td>0</td>\n",
       "      <td>2020-09-02 07:38:25</td>\n",
       "      <td>['803', '170', '84', '61', '440', ..., '55', '...</td>\n",
       "      <td>8</td>\n",
       "      <td>2</td>\n",
       "      <td>9</td>\n",
       "      <td>10</td>\n",
       "    </tr>\n",
       "    <tr>\n",
       "      <th>3</th>\n",
       "      <td>1</td>\n",
       "      <td>2019-05-08 16:09:41</td>\n",
       "      <td>['55']\n",
       "Categories (881, object): ['0', '1', '1...</td>\n",
       "      <td>0</td>\n",
       "      <td>2</td>\n",
       "      <td>5</td>\n",
       "      <td>9</td>\n",
       "    </tr>\n",
       "    <tr>\n",
       "      <th>4</th>\n",
       "      <td>1</td>\n",
       "      <td>2020-01-17 14:44:23</td>\n",
       "      <td>['82', '798', '86', '421', '204', '55']\n",
       "Catego...</td>\n",
       "      <td>253</td>\n",
       "      <td>4</td>\n",
       "      <td>1</td>\n",
       "      <td>10</td>\n",
       "    </tr>\n",
       "  </tbody>\n",
       "</table>\n",
       "</div>"
      ],
      "text/plain": [
       "   user_id  order_completed_at  \\\n",
       "0        0 2020-07-19 09:59:17   \n",
       "1        0 2020-08-24 08:55:32   \n",
       "2        0 2020-09-02 07:38:25   \n",
       "3        1 2019-05-08 16:09:41   \n",
       "4        1 2020-01-17 14:44:23   \n",
       "\n",
       "                                                cart  time_diff  weekday  \\\n",
       "0  ['20', '82', '441', '57', '14', '405', '430', ...          0        6   \n",
       "1  ['133', '5', '26', '10', '382', ..., '57', '39...         35        0   \n",
       "2  ['803', '170', '84', '61', '440', ..., '55', '...          8        2   \n",
       "3  ['55']\n",
       "Categories (881, object): ['0', '1', '1...          0        2   \n",
       "4  ['82', '798', '86', '421', '204', '55']\n",
       "Catego...        253        4   \n",
       "\n",
       "   month  year  \n",
       "0      7    10  \n",
       "1      8    10  \n",
       "2      9    10  \n",
       "3      5     9  \n",
       "4      1    10  "
      ]
     },
     "execution_count": 34,
     "metadata": {},
     "output_type": "execute_result"
    }
   ],
   "source": [
    "train_grouped.head()"
   ]
  },
  {
   "cell_type": "markdown",
   "id": "d9971249",
   "metadata": {},
   "source": [
    "### Масштабирование time_diff."
   ]
  },
  {
   "cell_type": "markdown",
   "id": "e15f1441",
   "metadata": {},
   "source": [
    "Для работы fully connected feed-forward нейронной сети необходимо масштабировать признаки."
   ]
  },
  {
   "cell_type": "code",
   "execution_count": 35,
   "id": "36205a9a",
   "metadata": {},
   "outputs": [],
   "source": [
    "mm_scaler_seq = MinMaxScaler()"
   ]
  },
  {
   "cell_type": "code",
   "execution_count": 36,
   "id": "fd798f13",
   "metadata": {},
   "outputs": [],
   "source": [
    "train_grouped['time_diff_scaled'] = mm_scaler_seq.fit_transform(\n",
    "    train_grouped['time_diff'].values.reshape(-1, 1)\n",
    ")"
   ]
  },
  {
   "cell_type": "code",
   "execution_count": 37,
   "id": "3f9b60f1",
   "metadata": {},
   "outputs": [
    {
     "data": {
      "text/html": [
       "<div>\n",
       "<style scoped>\n",
       "    .dataframe tbody tr th:only-of-type {\n",
       "        vertical-align: middle;\n",
       "    }\n",
       "\n",
       "    .dataframe tbody tr th {\n",
       "        vertical-align: top;\n",
       "    }\n",
       "\n",
       "    .dataframe thead th {\n",
       "        text-align: right;\n",
       "    }\n",
       "</style>\n",
       "<table border=\"1\" class=\"dataframe\">\n",
       "  <thead>\n",
       "    <tr style=\"text-align: right;\">\n",
       "      <th></th>\n",
       "      <th>user_id</th>\n",
       "      <th>order_completed_at</th>\n",
       "      <th>cart</th>\n",
       "      <th>time_diff</th>\n",
       "      <th>weekday</th>\n",
       "      <th>month</th>\n",
       "      <th>year</th>\n",
       "      <th>time_diff_scaled</th>\n",
       "    </tr>\n",
       "  </thead>\n",
       "  <tbody>\n",
       "    <tr>\n",
       "      <th>0</th>\n",
       "      <td>0</td>\n",
       "      <td>2020-07-19 09:59:17</td>\n",
       "      <td>['20', '82', '441', '57', '14', '405', '430', ...</td>\n",
       "      <td>0</td>\n",
       "      <td>6</td>\n",
       "      <td>7</td>\n",
       "      <td>10</td>\n",
       "      <td>0.000</td>\n",
       "    </tr>\n",
       "    <tr>\n",
       "      <th>1</th>\n",
       "      <td>0</td>\n",
       "      <td>2020-08-24 08:55:32</td>\n",
       "      <td>['133', '5', '26', '10', '382', ..., '57', '39...</td>\n",
       "      <td>35</td>\n",
       "      <td>0</td>\n",
       "      <td>8</td>\n",
       "      <td>10</td>\n",
       "      <td>0.061</td>\n",
       "    </tr>\n",
       "    <tr>\n",
       "      <th>2</th>\n",
       "      <td>0</td>\n",
       "      <td>2020-09-02 07:38:25</td>\n",
       "      <td>['803', '170', '84', '61', '440', ..., '55', '...</td>\n",
       "      <td>8</td>\n",
       "      <td>2</td>\n",
       "      <td>9</td>\n",
       "      <td>10</td>\n",
       "      <td>0.014</td>\n",
       "    </tr>\n",
       "    <tr>\n",
       "      <th>3</th>\n",
       "      <td>1</td>\n",
       "      <td>2019-05-08 16:09:41</td>\n",
       "      <td>['55']\n",
       "Categories (881, object): ['0', '1', '1...</td>\n",
       "      <td>0</td>\n",
       "      <td>2</td>\n",
       "      <td>5</td>\n",
       "      <td>9</td>\n",
       "      <td>0.000</td>\n",
       "    </tr>\n",
       "    <tr>\n",
       "      <th>4</th>\n",
       "      <td>1</td>\n",
       "      <td>2020-01-17 14:44:23</td>\n",
       "      <td>['82', '798', '86', '421', '204', '55']\n",
       "Catego...</td>\n",
       "      <td>253</td>\n",
       "      <td>4</td>\n",
       "      <td>1</td>\n",
       "      <td>10</td>\n",
       "      <td>0.442</td>\n",
       "    </tr>\n",
       "  </tbody>\n",
       "</table>\n",
       "</div>"
      ],
      "text/plain": [
       "   user_id  order_completed_at  \\\n",
       "0        0 2020-07-19 09:59:17   \n",
       "1        0 2020-08-24 08:55:32   \n",
       "2        0 2020-09-02 07:38:25   \n",
       "3        1 2019-05-08 16:09:41   \n",
       "4        1 2020-01-17 14:44:23   \n",
       "\n",
       "                                                cart  time_diff  weekday  \\\n",
       "0  ['20', '82', '441', '57', '14', '405', '430', ...          0        6   \n",
       "1  ['133', '5', '26', '10', '382', ..., '57', '39...         35        0   \n",
       "2  ['803', '170', '84', '61', '440', ..., '55', '...          8        2   \n",
       "3  ['55']\n",
       "Categories (881, object): ['0', '1', '1...          0        2   \n",
       "4  ['82', '798', '86', '421', '204', '55']\n",
       "Catego...        253        4   \n",
       "\n",
       "   month  year  time_diff_scaled  \n",
       "0      7    10             0.000  \n",
       "1      8    10             0.061  \n",
       "2      9    10             0.014  \n",
       "3      5     9             0.000  \n",
       "4      1    10             0.442  "
      ]
     },
     "execution_count": 37,
     "metadata": {},
     "output_type": "execute_result"
    }
   ],
   "source": [
    "train_grouped.head()"
   ]
  },
  {
   "cell_type": "markdown",
   "id": "4cab07b9",
   "metadata": {},
   "source": [
    "### Последовательные признаки."
   ]
  },
  {
   "cell_type": "markdown",
   "id": "679f93d4",
   "metadata": {},
   "source": [
    "#### Создание."
   ]
  },
  {
   "cell_type": "code",
   "execution_count": 38,
   "id": "ba7e8388",
   "metadata": {},
   "outputs": [],
   "source": [
    "features_seq: pd.DataFrame = train_grouped.groupby('user_id').agg(\n",
    "    {\n",
    "        'time_diff_scaled': lambda x: list(x),\n",
    "        'weekday': 'unique',\n",
    "        'month': 'unique',\n",
    "        'year': 'unique',\n",
    "    }\n",
    ").reset_index()"
   ]
  },
  {
   "cell_type": "code",
   "execution_count": 39,
   "id": "cf5907f0",
   "metadata": {},
   "outputs": [
    {
     "data": {
      "text/html": [
       "<div>\n",
       "<style scoped>\n",
       "    .dataframe tbody tr th:only-of-type {\n",
       "        vertical-align: middle;\n",
       "    }\n",
       "\n",
       "    .dataframe tbody tr th {\n",
       "        vertical-align: top;\n",
       "    }\n",
       "\n",
       "    .dataframe thead th {\n",
       "        text-align: right;\n",
       "    }\n",
       "</style>\n",
       "<table border=\"1\" class=\"dataframe\">\n",
       "  <thead>\n",
       "    <tr style=\"text-align: right;\">\n",
       "      <th></th>\n",
       "      <th>user_id</th>\n",
       "      <th>time_diff_scaled</th>\n",
       "      <th>weekday</th>\n",
       "      <th>month</th>\n",
       "      <th>year</th>\n",
       "    </tr>\n",
       "  </thead>\n",
       "  <tbody>\n",
       "    <tr>\n",
       "      <th>0</th>\n",
       "      <td>0</td>\n",
       "      <td>[0.0, 0.06108202443280977, 0.013961605584642234]</td>\n",
       "      <td>[6, 0, 2]</td>\n",
       "      <td>[7, 8, 9]</td>\n",
       "      <td>[10]</td>\n",
       "    </tr>\n",
       "    <tr>\n",
       "      <th>1</th>\n",
       "      <td>1</td>\n",
       "      <td>[0.0, 0.44153577661431065, 0.03490401396160558...</td>\n",
       "      <td>[2, 4, 3, 0, 6, 1]</td>\n",
       "      <td>[5, 1, 2, 3, 4, 7]</td>\n",
       "      <td>[9, 10]</td>\n",
       "    </tr>\n",
       "    <tr>\n",
       "      <th>2</th>\n",
       "      <td>2</td>\n",
       "      <td>[0.0, 0.012216404886561954, 0.0052356020942408...</td>\n",
       "      <td>[3, 4, 1, 5, 2, 6]</td>\n",
       "      <td>[10, 11, 12, 1, 6]</td>\n",
       "      <td>[9, 10]</td>\n",
       "    </tr>\n",
       "    <tr>\n",
       "      <th>3</th>\n",
       "      <td>3</td>\n",
       "      <td>[0.0, 0.10645724258289703, 0.019197207678883072]</td>\n",
       "      <td>[6, 4, 2]</td>\n",
       "      <td>[4, 6]</td>\n",
       "      <td>[10]</td>\n",
       "    </tr>\n",
       "    <tr>\n",
       "      <th>4</th>\n",
       "      <td>4</td>\n",
       "      <td>[0.0, 0.005235602094240838, 0.0069808027923211...</td>\n",
       "      <td>[5, 1, 6, 0, 3]</td>\n",
       "      <td>[4, 5, 6, 8]</td>\n",
       "      <td>[10]</td>\n",
       "    </tr>\n",
       "  </tbody>\n",
       "</table>\n",
       "</div>"
      ],
      "text/plain": [
       "   user_id                                   time_diff_scaled  \\\n",
       "0        0   [0.0, 0.06108202443280977, 0.013961605584642234]   \n",
       "1        1  [0.0, 0.44153577661431065, 0.03490401396160558...   \n",
       "2        2  [0.0, 0.012216404886561954, 0.0052356020942408...   \n",
       "3        3   [0.0, 0.10645724258289703, 0.019197207678883072]   \n",
       "4        4  [0.0, 0.005235602094240838, 0.0069808027923211...   \n",
       "\n",
       "              weekday               month     year  \n",
       "0           [6, 0, 2]           [7, 8, 9]     [10]  \n",
       "1  [2, 4, 3, 0, 6, 1]  [5, 1, 2, 3, 4, 7]  [9, 10]  \n",
       "2  [3, 4, 1, 5, 2, 6]  [10, 11, 12, 1, 6]  [9, 10]  \n",
       "3           [6, 4, 2]              [4, 6]     [10]  \n",
       "4     [5, 1, 6, 0, 3]        [4, 5, 6, 8]     [10]  "
      ]
     },
     "execution_count": 39,
     "metadata": {},
     "output_type": "execute_result"
    }
   ],
   "source": [
    "features_seq.head()"
   ]
  },
  {
   "cell_type": "markdown",
   "id": "363dc3d5",
   "metadata": {},
   "source": [
    "#### Кодирование."
   ]
  },
  {
   "cell_type": "code",
   "execution_count": 40,
   "id": "9d2df0f6",
   "metadata": {},
   "outputs": [
    {
     "name": "stderr",
     "output_type": "stream",
     "text": [
      "100%|█████████████████████████████████████████████████████████████████████████| 20000/20000 [00:00<00:00, 41778.00it/s]\n"
     ]
    }
   ],
   "source": [
    "features_seq['weekday_enc'] = features_seq['weekday'].progress_apply(\n",
    "    lambda x: np.sum(to_categorical(x, num_classes=7), axis=0)\n",
    ")"
   ]
  },
  {
   "cell_type": "code",
   "execution_count": 41,
   "id": "0d42e57c",
   "metadata": {},
   "outputs": [
    {
     "name": "stderr",
     "output_type": "stream",
     "text": [
      "100%|█████████████████████████████████████████████████████████████████████████| 20000/20000 [00:00<00:00, 43636.78it/s]\n"
     ]
    }
   ],
   "source": [
    "features_seq['month_enc'] = features_seq['month'].progress_apply(\n",
    "    lambda x: np.sum(to_categorical(x, num_classes=13), axis=0)\n",
    ")"
   ]
  },
  {
   "cell_type": "code",
   "execution_count": 42,
   "id": "9716882c",
   "metadata": {},
   "outputs": [
    {
     "name": "stderr",
     "output_type": "stream",
     "text": [
      "100%|█████████████████████████████████████████████████████████████████████████| 20000/20000 [00:00<00:00, 46381.11it/s]\n"
     ]
    }
   ],
   "source": [
    "features_seq['year_enc'] = features_seq['year'].progress_apply(\n",
    "    lambda x: np.sum(to_categorical(x, num_classes=11), axis=0)\n",
    ")"
   ]
  },
  {
   "cell_type": "code",
   "execution_count": 43,
   "id": "f52eac81",
   "metadata": {},
   "outputs": [
    {
     "data": {
      "text/html": [
       "<div>\n",
       "<style scoped>\n",
       "    .dataframe tbody tr th:only-of-type {\n",
       "        vertical-align: middle;\n",
       "    }\n",
       "\n",
       "    .dataframe tbody tr th {\n",
       "        vertical-align: top;\n",
       "    }\n",
       "\n",
       "    .dataframe thead th {\n",
       "        text-align: right;\n",
       "    }\n",
       "</style>\n",
       "<table border=\"1\" class=\"dataframe\">\n",
       "  <thead>\n",
       "    <tr style=\"text-align: right;\">\n",
       "      <th></th>\n",
       "      <th>user_id</th>\n",
       "      <th>time_diff_scaled</th>\n",
       "      <th>weekday</th>\n",
       "      <th>month</th>\n",
       "      <th>year</th>\n",
       "      <th>weekday_enc</th>\n",
       "      <th>month_enc</th>\n",
       "      <th>year_enc</th>\n",
       "    </tr>\n",
       "  </thead>\n",
       "  <tbody>\n",
       "    <tr>\n",
       "      <th>0</th>\n",
       "      <td>0</td>\n",
       "      <td>[0.0, 0.06108202443280977, 0.013961605584642234]</td>\n",
       "      <td>[6, 0, 2]</td>\n",
       "      <td>[7, 8, 9]</td>\n",
       "      <td>[10]</td>\n",
       "      <td>[1.0, 0.0, 1.0, 0.0, 0.0, 0.0, 1.0]</td>\n",
       "      <td>[0.0, 0.0, 0.0, 0.0, 0.0, 0.0, 0.0, 1.0, 1.0, ...</td>\n",
       "      <td>[0.0, 0.0, 0.0, 0.0, 0.0, 0.0, 0.0, 0.0, 0.0, ...</td>\n",
       "    </tr>\n",
       "    <tr>\n",
       "      <th>1</th>\n",
       "      <td>1</td>\n",
       "      <td>[0.0, 0.44153577661431065, 0.03490401396160558...</td>\n",
       "      <td>[2, 4, 3, 0, 6, 1]</td>\n",
       "      <td>[5, 1, 2, 3, 4, 7]</td>\n",
       "      <td>[9, 10]</td>\n",
       "      <td>[1.0, 1.0, 1.0, 1.0, 1.0, 0.0, 1.0]</td>\n",
       "      <td>[0.0, 1.0, 1.0, 1.0, 1.0, 1.0, 0.0, 1.0, 0.0, ...</td>\n",
       "      <td>[0.0, 0.0, 0.0, 0.0, 0.0, 0.0, 0.0, 0.0, 0.0, ...</td>\n",
       "    </tr>\n",
       "    <tr>\n",
       "      <th>2</th>\n",
       "      <td>2</td>\n",
       "      <td>[0.0, 0.012216404886561954, 0.0052356020942408...</td>\n",
       "      <td>[3, 4, 1, 5, 2, 6]</td>\n",
       "      <td>[10, 11, 12, 1, 6]</td>\n",
       "      <td>[9, 10]</td>\n",
       "      <td>[0.0, 1.0, 1.0, 1.0, 1.0, 1.0, 1.0]</td>\n",
       "      <td>[0.0, 1.0, 0.0, 0.0, 0.0, 0.0, 1.0, 0.0, 0.0, ...</td>\n",
       "      <td>[0.0, 0.0, 0.0, 0.0, 0.0, 0.0, 0.0, 0.0, 0.0, ...</td>\n",
       "    </tr>\n",
       "    <tr>\n",
       "      <th>3</th>\n",
       "      <td>3</td>\n",
       "      <td>[0.0, 0.10645724258289703, 0.019197207678883072]</td>\n",
       "      <td>[6, 4, 2]</td>\n",
       "      <td>[4, 6]</td>\n",
       "      <td>[10]</td>\n",
       "      <td>[0.0, 0.0, 1.0, 0.0, 1.0, 0.0, 1.0]</td>\n",
       "      <td>[0.0, 0.0, 0.0, 0.0, 1.0, 0.0, 1.0, 0.0, 0.0, ...</td>\n",
       "      <td>[0.0, 0.0, 0.0, 0.0, 0.0, 0.0, 0.0, 0.0, 0.0, ...</td>\n",
       "    </tr>\n",
       "    <tr>\n",
       "      <th>4</th>\n",
       "      <td>4</td>\n",
       "      <td>[0.0, 0.005235602094240838, 0.0069808027923211...</td>\n",
       "      <td>[5, 1, 6, 0, 3]</td>\n",
       "      <td>[4, 5, 6, 8]</td>\n",
       "      <td>[10]</td>\n",
       "      <td>[1.0, 1.0, 0.0, 1.0, 0.0, 1.0, 1.0]</td>\n",
       "      <td>[0.0, 0.0, 0.0, 0.0, 1.0, 1.0, 1.0, 0.0, 1.0, ...</td>\n",
       "      <td>[0.0, 0.0, 0.0, 0.0, 0.0, 0.0, 0.0, 0.0, 0.0, ...</td>\n",
       "    </tr>\n",
       "  </tbody>\n",
       "</table>\n",
       "</div>"
      ],
      "text/plain": [
       "   user_id                                   time_diff_scaled  \\\n",
       "0        0   [0.0, 0.06108202443280977, 0.013961605584642234]   \n",
       "1        1  [0.0, 0.44153577661431065, 0.03490401396160558...   \n",
       "2        2  [0.0, 0.012216404886561954, 0.0052356020942408...   \n",
       "3        3   [0.0, 0.10645724258289703, 0.019197207678883072]   \n",
       "4        4  [0.0, 0.005235602094240838, 0.0069808027923211...   \n",
       "\n",
       "              weekday               month     year  \\\n",
       "0           [6, 0, 2]           [7, 8, 9]     [10]   \n",
       "1  [2, 4, 3, 0, 6, 1]  [5, 1, 2, 3, 4, 7]  [9, 10]   \n",
       "2  [3, 4, 1, 5, 2, 6]  [10, 11, 12, 1, 6]  [9, 10]   \n",
       "3           [6, 4, 2]              [4, 6]     [10]   \n",
       "4     [5, 1, 6, 0, 3]        [4, 5, 6, 8]     [10]   \n",
       "\n",
       "                           weekday_enc  \\\n",
       "0  [1.0, 0.0, 1.0, 0.0, 0.0, 0.0, 1.0]   \n",
       "1  [1.0, 1.0, 1.0, 1.0, 1.0, 0.0, 1.0]   \n",
       "2  [0.0, 1.0, 1.0, 1.0, 1.0, 1.0, 1.0]   \n",
       "3  [0.0, 0.0, 1.0, 0.0, 1.0, 0.0, 1.0]   \n",
       "4  [1.0, 1.0, 0.0, 1.0, 0.0, 1.0, 1.0]   \n",
       "\n",
       "                                           month_enc  \\\n",
       "0  [0.0, 0.0, 0.0, 0.0, 0.0, 0.0, 0.0, 1.0, 1.0, ...   \n",
       "1  [0.0, 1.0, 1.0, 1.0, 1.0, 1.0, 0.0, 1.0, 0.0, ...   \n",
       "2  [0.0, 1.0, 0.0, 0.0, 0.0, 0.0, 1.0, 0.0, 0.0, ...   \n",
       "3  [0.0, 0.0, 0.0, 0.0, 1.0, 0.0, 1.0, 0.0, 0.0, ...   \n",
       "4  [0.0, 0.0, 0.0, 0.0, 1.0, 1.0, 1.0, 0.0, 1.0, ...   \n",
       "\n",
       "                                            year_enc  \n",
       "0  [0.0, 0.0, 0.0, 0.0, 0.0, 0.0, 0.0, 0.0, 0.0, ...  \n",
       "1  [0.0, 0.0, 0.0, 0.0, 0.0, 0.0, 0.0, 0.0, 0.0, ...  \n",
       "2  [0.0, 0.0, 0.0, 0.0, 0.0, 0.0, 0.0, 0.0, 0.0, ...  \n",
       "3  [0.0, 0.0, 0.0, 0.0, 0.0, 0.0, 0.0, 0.0, 0.0, ...  \n",
       "4  [0.0, 0.0, 0.0, 0.0, 0.0, 0.0, 0.0, 0.0, 0.0, ...  "
      ]
     },
     "execution_count": 43,
     "metadata": {},
     "output_type": "execute_result"
    }
   ],
   "source": [
    "features_seq.head()"
   ]
  },
  {
   "cell_type": "code",
   "execution_count": 44,
   "id": "4d398237",
   "metadata": {},
   "outputs": [
    {
     "data": {
      "text/plain": [
       "(20000, 213)"
      ]
     },
     "execution_count": 44,
     "metadata": {},
     "output_type": "execute_result"
    }
   ],
   "source": [
    "time_diff_scaled_df: pd.DataFrame = pd.DataFrame(\n",
    "    features_seq['time_diff_scaled'].values.tolist()\n",
    ").fillna(MASK_VALUE)\n",
    "time_diff_scaled_df.shape"
   ]
  },
  {
   "cell_type": "code",
   "execution_count": 45,
   "id": "5fd59860",
   "metadata": {},
   "outputs": [
    {
     "data": {
      "text/plain": [
       "(20000, 7)"
      ]
     },
     "execution_count": 45,
     "metadata": {},
     "output_type": "execute_result"
    }
   ],
   "source": [
    "weekday_enc_df: pd.DataFrame = pd.DataFrame(\n",
    "    features_seq['weekday_enc'].values.tolist()\n",
    ").fillna(MASK_VALUE)\n",
    "weekday_enc_df.shape"
   ]
  },
  {
   "cell_type": "code",
   "execution_count": 46,
   "id": "5b534839",
   "metadata": {},
   "outputs": [
    {
     "data": {
      "text/plain": [
       "(20000, 13)"
      ]
     },
     "execution_count": 46,
     "metadata": {},
     "output_type": "execute_result"
    }
   ],
   "source": [
    "month_enc_df: pd.DataFrame = pd.DataFrame(\n",
    "    features_seq['month_enc'].values.tolist()\n",
    ").fillna(MASK_VALUE)\n",
    "month_enc_df.shape"
   ]
  },
  {
   "cell_type": "code",
   "execution_count": 47,
   "id": "db976398",
   "metadata": {},
   "outputs": [
    {
     "data": {
      "text/plain": [
       "(20000, 11)"
      ]
     },
     "execution_count": 47,
     "metadata": {},
     "output_type": "execute_result"
    }
   ],
   "source": [
    "year_enc_df: pd.DataFrame = pd.DataFrame(\n",
    "    features_seq['year_enc'].values.tolist()\n",
    ").fillna(MASK_VALUE)\n",
    "year_enc_df.shape"
   ]
  },
  {
   "cell_type": "code",
   "execution_count": 48,
   "id": "ffb9cba0",
   "metadata": {},
   "outputs": [],
   "source": [
    "features_seq_prepared: pd.DataFrame = pd.concat(\n",
    "    [\n",
    "        time_diff_scaled_df,\n",
    "        weekday_enc_df,\n",
    "        month_enc_df,\n",
    "        year_enc_df\n",
    "    ],\n",
    "    axis=1\n",
    ")"
   ]
  },
  {
   "cell_type": "code",
   "execution_count": 49,
   "id": "a823decc",
   "metadata": {},
   "outputs": [
    {
     "data": {
      "text/plain": [
       "(20000, 244)"
      ]
     },
     "execution_count": 49,
     "metadata": {},
     "output_type": "execute_result"
    }
   ],
   "source": [
    "features_seq_prepared.shape"
   ]
  },
  {
   "cell_type": "code",
   "execution_count": 50,
   "id": "de6df6dc",
   "metadata": {},
   "outputs": [
    {
     "data": {
      "text/html": [
       "<div>\n",
       "<style scoped>\n",
       "    .dataframe tbody tr th:only-of-type {\n",
       "        vertical-align: middle;\n",
       "    }\n",
       "\n",
       "    .dataframe tbody tr th {\n",
       "        vertical-align: top;\n",
       "    }\n",
       "\n",
       "    .dataframe thead th {\n",
       "        text-align: right;\n",
       "    }\n",
       "</style>\n",
       "<table border=\"1\" class=\"dataframe\">\n",
       "  <thead>\n",
       "    <tr style=\"text-align: right;\">\n",
       "      <th></th>\n",
       "      <th>0</th>\n",
       "      <th>1</th>\n",
       "      <th>2</th>\n",
       "      <th>3</th>\n",
       "      <th>4</th>\n",
       "      <th>5</th>\n",
       "      <th>6</th>\n",
       "      <th>7</th>\n",
       "      <th>8</th>\n",
       "      <th>9</th>\n",
       "      <th>...</th>\n",
       "      <th>1</th>\n",
       "      <th>2</th>\n",
       "      <th>3</th>\n",
       "      <th>4</th>\n",
       "      <th>5</th>\n",
       "      <th>6</th>\n",
       "      <th>7</th>\n",
       "      <th>8</th>\n",
       "      <th>9</th>\n",
       "      <th>10</th>\n",
       "    </tr>\n",
       "  </thead>\n",
       "  <tbody>\n",
       "    <tr>\n",
       "      <th>0</th>\n",
       "      <td>0.000</td>\n",
       "      <td>0.061</td>\n",
       "      <td>0.014</td>\n",
       "      <td>0.000</td>\n",
       "      <td>0.000</td>\n",
       "      <td>0.000</td>\n",
       "      <td>0.000</td>\n",
       "      <td>0.000</td>\n",
       "      <td>0.000</td>\n",
       "      <td>0.000</td>\n",
       "      <td>...</td>\n",
       "      <td>0.000</td>\n",
       "      <td>0.000</td>\n",
       "      <td>0.000</td>\n",
       "      <td>0.000</td>\n",
       "      <td>0.000</td>\n",
       "      <td>0.000</td>\n",
       "      <td>0.000</td>\n",
       "      <td>0.000</td>\n",
       "      <td>0.000</td>\n",
       "      <td>1.000</td>\n",
       "    </tr>\n",
       "    <tr>\n",
       "      <th>1</th>\n",
       "      <td>0.000</td>\n",
       "      <td>0.442</td>\n",
       "      <td>0.035</td>\n",
       "      <td>0.042</td>\n",
       "      <td>0.045</td>\n",
       "      <td>0.026</td>\n",
       "      <td>0.028</td>\n",
       "      <td>0.040</td>\n",
       "      <td>0.087</td>\n",
       "      <td>0.000</td>\n",
       "      <td>...</td>\n",
       "      <td>0.000</td>\n",
       "      <td>0.000</td>\n",
       "      <td>0.000</td>\n",
       "      <td>0.000</td>\n",
       "      <td>0.000</td>\n",
       "      <td>0.000</td>\n",
       "      <td>0.000</td>\n",
       "      <td>0.000</td>\n",
       "      <td>1.000</td>\n",
       "      <td>1.000</td>\n",
       "    </tr>\n",
       "    <tr>\n",
       "      <th>2</th>\n",
       "      <td>0.000</td>\n",
       "      <td>0.012</td>\n",
       "      <td>0.005</td>\n",
       "      <td>0.017</td>\n",
       "      <td>0.014</td>\n",
       "      <td>0.010</td>\n",
       "      <td>0.005</td>\n",
       "      <td>0.023</td>\n",
       "      <td>0.023</td>\n",
       "      <td>0.021</td>\n",
       "      <td>...</td>\n",
       "      <td>0.000</td>\n",
       "      <td>0.000</td>\n",
       "      <td>0.000</td>\n",
       "      <td>0.000</td>\n",
       "      <td>0.000</td>\n",
       "      <td>0.000</td>\n",
       "      <td>0.000</td>\n",
       "      <td>0.000</td>\n",
       "      <td>1.000</td>\n",
       "      <td>1.000</td>\n",
       "    </tr>\n",
       "    <tr>\n",
       "      <th>3</th>\n",
       "      <td>0.000</td>\n",
       "      <td>0.106</td>\n",
       "      <td>0.019</td>\n",
       "      <td>0.000</td>\n",
       "      <td>0.000</td>\n",
       "      <td>0.000</td>\n",
       "      <td>0.000</td>\n",
       "      <td>0.000</td>\n",
       "      <td>0.000</td>\n",
       "      <td>0.000</td>\n",
       "      <td>...</td>\n",
       "      <td>0.000</td>\n",
       "      <td>0.000</td>\n",
       "      <td>0.000</td>\n",
       "      <td>0.000</td>\n",
       "      <td>0.000</td>\n",
       "      <td>0.000</td>\n",
       "      <td>0.000</td>\n",
       "      <td>0.000</td>\n",
       "      <td>0.000</td>\n",
       "      <td>1.000</td>\n",
       "    </tr>\n",
       "    <tr>\n",
       "      <th>4</th>\n",
       "      <td>0.000</td>\n",
       "      <td>0.005</td>\n",
       "      <td>0.007</td>\n",
       "      <td>0.010</td>\n",
       "      <td>0.052</td>\n",
       "      <td>0.033</td>\n",
       "      <td>0.117</td>\n",
       "      <td>0.000</td>\n",
       "      <td>0.000</td>\n",
       "      <td>0.000</td>\n",
       "      <td>...</td>\n",
       "      <td>0.000</td>\n",
       "      <td>0.000</td>\n",
       "      <td>0.000</td>\n",
       "      <td>0.000</td>\n",
       "      <td>0.000</td>\n",
       "      <td>0.000</td>\n",
       "      <td>0.000</td>\n",
       "      <td>0.000</td>\n",
       "      <td>0.000</td>\n",
       "      <td>1.000</td>\n",
       "    </tr>\n",
       "  </tbody>\n",
       "</table>\n",
       "<p>5 rows × 244 columns</p>\n",
       "</div>"
      ],
      "text/plain": [
       "     0     1     2     3     4     5     6     7     8     9   ...    1   \\\n",
       "0 0.000 0.061 0.014 0.000 0.000 0.000 0.000 0.000 0.000 0.000  ... 0.000   \n",
       "1 0.000 0.442 0.035 0.042 0.045 0.026 0.028 0.040 0.087 0.000  ... 0.000   \n",
       "2 0.000 0.012 0.005 0.017 0.014 0.010 0.005 0.023 0.023 0.021  ... 0.000   \n",
       "3 0.000 0.106 0.019 0.000 0.000 0.000 0.000 0.000 0.000 0.000  ... 0.000   \n",
       "4 0.000 0.005 0.007 0.010 0.052 0.033 0.117 0.000 0.000 0.000  ... 0.000   \n",
       "\n",
       "     2     3     4     5     6     7     8     9     10  \n",
       "0 0.000 0.000 0.000 0.000 0.000 0.000 0.000 0.000 1.000  \n",
       "1 0.000 0.000 0.000 0.000 0.000 0.000 0.000 1.000 1.000  \n",
       "2 0.000 0.000 0.000 0.000 0.000 0.000 0.000 1.000 1.000  \n",
       "3 0.000 0.000 0.000 0.000 0.000 0.000 0.000 0.000 1.000  \n",
       "4 0.000 0.000 0.000 0.000 0.000 0.000 0.000 0.000 1.000  \n",
       "\n",
       "[5 rows x 244 columns]"
      ]
     },
     "execution_count": 50,
     "metadata": {},
     "output_type": "execute_result"
    }
   ],
   "source": [
    "features_seq_prepared.head()"
   ]
  },
  {
   "cell_type": "markdown",
   "id": "ad50fcb6",
   "metadata": {},
   "source": [
    "### Фиксированные признаки."
   ]
  },
  {
   "cell_type": "markdown",
   "id": "9e6cd680",
   "metadata": {},
   "source": [
    "#### Создание."
   ]
  },
  {
   "cell_type": "code",
   "execution_count": 51,
   "id": "2151bf89",
   "metadata": {},
   "outputs": [],
   "source": [
    "features_fix: pd.DataFrame = train_grouped.groupby('user_id').agg(\n",
    "    {'order_completed_at': np.ptp}\n",
    ")\n",
    "features_fix.columns = ['order_completed_at_ptp']\n",
    "features_fix['order_completed_at_ptp'] = features_fix[\n",
    "    'order_completed_at_ptp'\n",
    "].dt.days\n",
    "features_fix = features_fix.reset_index()"
   ]
  },
  {
   "cell_type": "code",
   "execution_count": 52,
   "id": "917b5f76",
   "metadata": {},
   "outputs": [],
   "source": [
    "features_fix['cart_length'] = features_seq['time_diff_scaled'].apply(len)"
   ]
  },
  {
   "cell_type": "markdown",
   "id": "8e8b1eab",
   "metadata": {},
   "source": [
    "#### Масштабирование."
   ]
  },
  {
   "cell_type": "code",
   "execution_count": 53,
   "id": "a99f1c50",
   "metadata": {},
   "outputs": [],
   "source": [
    "mm_scaler_fix = MinMaxScaler()"
   ]
  },
  {
   "cell_type": "code",
   "execution_count": 54,
   "id": "fa991844",
   "metadata": {},
   "outputs": [],
   "source": [
    "features_fix[\n",
    "    ['order_completed_at_ptp_scaled', 'cart_length_scaled']\n",
    "] = mm_scaler_fix.fit_transform(\n",
    "    features_fix[['order_completed_at_ptp', 'cart_length']]\n",
    ")"
   ]
  },
  {
   "cell_type": "code",
   "execution_count": 55,
   "id": "ae3bbe97",
   "metadata": {},
   "outputs": [],
   "source": [
    "features_fix_prepared: pd.DataFrame = features_fix[\n",
    "    ['order_completed_at_ptp_scaled', 'cart_length_scaled']\n",
    "]"
   ]
  },
  {
   "cell_type": "code",
   "execution_count": 56,
   "id": "32776125",
   "metadata": {
    "scrolled": true
   },
   "outputs": [
    {
     "data": {
      "text/html": [
       "<div>\n",
       "<style scoped>\n",
       "    .dataframe tbody tr th:only-of-type {\n",
       "        vertical-align: middle;\n",
       "    }\n",
       "\n",
       "    .dataframe tbody tr th {\n",
       "        vertical-align: top;\n",
       "    }\n",
       "\n",
       "    .dataframe thead th {\n",
       "        text-align: right;\n",
       "    }\n",
       "</style>\n",
       "<table border=\"1\" class=\"dataframe\">\n",
       "  <thead>\n",
       "    <tr style=\"text-align: right;\">\n",
       "      <th></th>\n",
       "      <th>order_completed_at_ptp_scaled</th>\n",
       "      <th>cart_length_scaled</th>\n",
       "    </tr>\n",
       "  </thead>\n",
       "  <tbody>\n",
       "    <tr>\n",
       "      <th>0</th>\n",
       "      <td>0.072</td>\n",
       "      <td>0.009</td>\n",
       "    </tr>\n",
       "    <tr>\n",
       "      <th>1</th>\n",
       "      <td>0.708</td>\n",
       "      <td>0.038</td>\n",
       "    </tr>\n",
       "    <tr>\n",
       "      <th>2</th>\n",
       "      <td>0.425</td>\n",
       "      <td>0.052</td>\n",
       "    </tr>\n",
       "    <tr>\n",
       "      <th>3</th>\n",
       "      <td>0.120</td>\n",
       "      <td>0.009</td>\n",
       "    </tr>\n",
       "    <tr>\n",
       "      <th>4</th>\n",
       "      <td>0.215</td>\n",
       "      <td>0.028</td>\n",
       "    </tr>\n",
       "  </tbody>\n",
       "</table>\n",
       "</div>"
      ],
      "text/plain": [
       "   order_completed_at_ptp_scaled  cart_length_scaled\n",
       "0                          0.072               0.009\n",
       "1                          0.708               0.038\n",
       "2                          0.425               0.052\n",
       "3                          0.120               0.009\n",
       "4                          0.215               0.028"
      ]
     },
     "execution_count": 56,
     "metadata": {},
     "output_type": "execute_result"
    }
   ],
   "source": [
    "features_fix_prepared.head()"
   ]
  },
  {
   "cell_type": "code",
   "execution_count": 57,
   "id": "8767e28c",
   "metadata": {},
   "outputs": [
    {
     "data": {
      "text/plain": [
       "(20000, 2)"
      ]
     },
     "execution_count": 57,
     "metadata": {},
     "output_type": "execute_result"
    }
   ],
   "source": [
    "features_fix_prepared.shape"
   ]
  },
  {
   "cell_type": "markdown",
   "id": "4679218e",
   "metadata": {},
   "source": [
    "## Создание обучающих наборов."
   ]
  },
  {
   "cell_type": "markdown",
   "id": "7249cbfe",
   "metadata": {},
   "source": [
    "### Создание обучающего набора данных."
   ]
  },
  {
   "cell_type": "code",
   "execution_count": 58,
   "id": "46f28de2",
   "metadata": {},
   "outputs": [],
   "source": [
    "X_train_seq: np.ndarray = features_seq_prepared.values"
   ]
  },
  {
   "cell_type": "code",
   "execution_count": 59,
   "id": "4cb36e28",
   "metadata": {},
   "outputs": [],
   "source": [
    "X_train_fix: np.ndarray = features_fix_prepared.values"
   ]
  },
  {
   "cell_type": "code",
   "execution_count": 60,
   "id": "e918cedc",
   "metadata": {},
   "outputs": [],
   "source": [
    "y_train: np.ndarray = target_prepared.values"
   ]
  },
  {
   "cell_type": "code",
   "execution_count": 61,
   "id": "13e9c16a",
   "metadata": {},
   "outputs": [
    {
     "name": "stdout",
     "output_type": "stream",
     "text": [
      "(20000, 244) (20000, 2) (20000, 876)\n"
     ]
    }
   ],
   "source": [
    "print(X_train_seq.shape, X_train_fix.shape, y_train.shape)"
   ]
  },
  {
   "cell_type": "markdown",
   "id": "97d42272",
   "metadata": {},
   "source": [
    "## Создание и обучение модели."
   ]
  },
  {
   "cell_type": "markdown",
   "id": "268420d4",
   "metadata": {},
   "source": [
    "После проведения экспериментов наилучшей моделью оказалась представленная ниже."
   ]
  },
  {
   "cell_type": "markdown",
   "id": "d501ac47",
   "metadata": {},
   "source": [
    "### Построение fully-connected feed-forward модели."
   ]
  },
  {
   "cell_type": "code",
   "execution_count": 62,
   "id": "e74f1171",
   "metadata": {},
   "outputs": [
    {
     "name": "stdout",
     "output_type": "stream",
     "text": [
      "WARNING:tensorflow:From C:\\ProgramData\\anaconda3\\Lib\\site-packages\\keras\\src\\backend.py:1398: The name tf.executing_eagerly_outside_functions is deprecated. Please use tf.compat.v1.executing_eagerly_outside_functions instead.\n",
      "\n"
     ]
    }
   ],
   "source": [
    "input_seq: tf.Tensor = Input(shape=(X_train_seq.shape[1:]))\n",
    "input_fix: tf.Tensor = Input(shape=(X_train_fix.shape[1:]))\n",
    "\n",
    "module_seq: tf.Tensor = Dense(128, kernel_initializer='glorot_uniform', activation='sigmoid')(input_seq)\n",
    "module_seq: tf.Tensor = Dense(256, kernel_initializer='glorot_uniform', activation='sigmoid')(module_seq)\n",
    "module_seq: tf.Tensor = Dense(512, kernel_initializer='glorot_uniform', activation='sigmoid')(module_seq)\n",
    "    \n",
    "\n",
    "module_fix: tf.Tensor = Dense(16, kernel_initializer='glorot_uniform', activation='sigmoid')(input_fix)\n",
    "module_fix: tf.Tensor = Dense(64, kernel_initializer='glorot_uniform', activation='sigmoid')(module_fix)\n",
    "module_fix: tf.Tensor = Dense(128, kernel_initializer='glorot_uniform', activation='sigmoid')(module_fix)\n",
    "\n",
    "merge_layer: tf.Tensor = Concatenate()([module_seq, module_fix])\n",
    "\n",
    "output: tf.Tensor = Dense(len(categories), activation='sigmoid')(merge_layer)\n",
    "    \n",
    "ff_model: tf.keras.models.Model = Model(inputs=[input_seq, input_fix], outputs=output)"
   ]
  },
  {
   "cell_type": "code",
   "execution_count": 63,
   "id": "494e2c84",
   "metadata": {},
   "outputs": [
    {
     "name": "stdout",
     "output_type": "stream",
     "text": [
      "WARNING:tensorflow:From C:\\ProgramData\\anaconda3\\Lib\\site-packages\\keras\\src\\optimizers\\__init__.py:309: The name tf.train.Optimizer is deprecated. Please use tf.compat.v1.train.Optimizer instead.\n",
      "\n"
     ]
    }
   ],
   "source": [
    "ff_model.compile(\n",
    "    loss='binary_crossentropy',\n",
    "    optimizer='adam',\n",
    "    metrics=[f1_m]\n",
    ")"
   ]
  },
  {
   "cell_type": "code",
   "execution_count": 64,
   "id": "92070c09",
   "metadata": {
    "scrolled": false
   },
   "outputs": [
    {
     "data": {
      "image/png": "[encoded data removed]",
      "text/plain": [
       "<IPython.core.display.Image object>"
      ]
     },
     "execution_count": 64,
     "metadata": {},
     "output_type": "execute_result"
    }
   ],
   "source": [
    "plot_model(ff_model, dpi=72, show_layer_activations=True, show_shapes=True, show_dtype=True)"
   ]
  },
  {
   "cell_type": "markdown",
   "id": "95666c50",
   "metadata": {},
   "source": [
    "### Обучение модели."
   ]
  },
  {
   "cell_type": "code",
   "execution_count": 65,
   "id": "b4e91fab",
   "metadata": {
    "scrolled": false
   },
   "outputs": [
    {
     "name": "stdout",
     "output_type": "stream",
     "text": [
      "WARNING:tensorflow:From C:\\ProgramData\\anaconda3\\Lib\\site-packages\\keras\\src\\utils\\tf_utils.py:492: The name tf.ragged.RaggedTensorValue is deprecated. Please use tf.compat.v1.ragged.RaggedTensorValue instead.\n",
      "\n",
      "WARNING:tensorflow:From C:\\ProgramData\\anaconda3\\Lib\\site-packages\\keras\\src\\engine\\base_layer_utils.py:384: The name tf.executing_eagerly_outside_functions is deprecated. Please use tf.compat.v1.executing_eagerly_outside_functions instead.\n",
      "\n"
     ]
    }
   ],
   "source": [
    "history = ff_model.fit(\n",
    "    [X_train_seq, X_train_fix],\n",
    "    y_train, \n",
    "    validation_split=0.3, \n",
    "    epochs=100, \n",
    "    batch_size=64,\n",
    "    verbose=0\n",
    ")"
   ]
  },
  {
   "cell_type": "markdown",
   "id": "c3f2b9ad",
   "metadata": {},
   "source": [
    "Тем не менее, результаты, полученные моделью на валидационной выборке в процессе обучения, оказались не совсем удовлетворительными."
   ]
  },
  {
   "cell_type": "code",
   "execution_count": 66,
   "id": "abf36e79",
   "metadata": {},
   "outputs": [
    {
     "name": "stdout",
     "output_type": "stream",
     "text": [
      "Last validation F1-score: 0.36\n"
     ]
    }
   ],
   "source": [
    "print(f\"Last validation F1-score: {history.history['val_f1_m'][-1]:.2f}\")"
   ]
  },
  {
   "cell_type": "markdown",
   "id": "afc41b68",
   "metadata": {},
   "source": [
    "## Обработка предсказаний модели."
   ]
  },
  {
   "cell_type": "code",
   "execution_count": 67,
   "id": "1f6c9a5b",
   "metadata": {},
   "outputs": [
    {
     "name": "stdout",
     "output_type": "stream",
     "text": [
      "625/625 [==============================] - 2s 3ms/step\n"
     ]
    }
   ],
   "source": [
    "y_predictions: tf.Tensor = ff_model.predict([X_train_seq, X_train_fix])"
   ]
  },
  {
   "cell_type": "markdown",
   "id": "019ae8cf",
   "metadata": {},
   "source": [
    "### Определение лучшего порога."
   ]
  },
  {
   "cell_type": "markdown",
   "id": "12f47141",
   "metadata": {},
   "source": [
    "Для улучшения прогнозов будем оптимизировать порог классификации."
   ]
  },
  {
   "cell_type": "code",
   "execution_count": 68,
   "id": "331623ff",
   "metadata": {},
   "outputs": [],
   "source": [
    "thresholds = np.linspace(0, 1, 10)\n",
    "best_threshold: float = None\n",
    "best_f1_score: float = 0.0\n",
    "\n",
    "for threshold in thresholds:\n",
    "    binary_predictions = (y_predictions > threshold).astype(int)\n",
    "    f1 = f1_score(y_train, binary_predictions, average='micro')\n",
    "    if f1 > best_f1_score:\n",
    "        best_f1_score = f1\n",
    "        best_threshold = threshold"
   ]
  },
  {
   "cell_type": "code",
   "execution_count": 69,
   "id": "27c41f12",
   "metadata": {},
   "outputs": [
    {
     "name": "stdout",
     "output_type": "stream",
     "text": [
      "Best Threshold: 0.22\n"
     ]
    }
   ],
   "source": [
    "print(f'Best Threshold: {best_threshold:.2f}')"
   ]
  },
  {
   "cell_type": "markdown",
   "id": "b8818329",
   "metadata": {},
   "source": [
    "### Бинаризация предсказаний."
   ]
  },
  {
   "cell_type": "code",
   "execution_count": 70,
   "id": "139ad310",
   "metadata": {},
   "outputs": [],
   "source": [
    "y_binary_predictions: int = (y_predictions > best_threshold).astype(int)"
   ]
  },
  {
   "cell_type": "code",
   "execution_count": 71,
   "id": "0a4b15f0",
   "metadata": {},
   "outputs": [
    {
     "name": "stdout",
     "output_type": "stream",
     "text": [
      "[[0 0 0 ... 0 0 0]\n",
      " [1 0 1 ... 0 0 1]\n",
      " [1 0 1 ... 0 0 0]\n",
      " ...\n",
      " [0 0 0 ... 0 0 0]\n",
      " [0 0 0 ... 0 0 0]\n",
      " [0 0 0 ... 0 0 0]]\n"
     ]
    }
   ],
   "source": [
    "print(y_binary_predictions)"
   ]
  },
  {
   "cell_type": "code",
   "execution_count": 72,
   "id": "7752381b",
   "metadata": {},
   "outputs": [
    {
     "name": "stdout",
     "output_type": "stream",
     "text": [
      "[[0 0 1 ... 0 0 0]\n",
      " [0 0 0 ... 0 0 0]\n",
      " [1 0 0 ... 0 0 0]\n",
      " ...\n",
      " [1 0 0 ... 0 1 1]\n",
      " [0 0 0 ... 0 0 0]\n",
      " [0 0 0 ... 0 0 0]]\n"
     ]
    }
   ],
   "source": [
    "print(y_train)"
   ]
  },
  {
   "cell_type": "markdown",
   "id": "f030505a",
   "metadata": {},
   "source": [
    "## Подготовка сабмита."
   ]
  },
  {
   "cell_type": "markdown",
   "id": "31a98934",
   "metadata": {},
   "source": [
    "### Создание матрицы покупки user_id - category."
   ]
  },
  {
   "cell_type": "code",
   "execution_count": 73,
   "id": "9eceae3f",
   "metadata": {},
   "outputs": [],
   "source": [
    "purchases_map: pd.DataFrame = pd.DataFrame(\n",
    "    y_binary_predictions,\n",
    "    columns=categories,\n",
    "    index=target['user_id']\n",
    ")"
   ]
  },
  {
   "cell_type": "code",
   "execution_count": 74,
   "id": "beea8d3d",
   "metadata": {},
   "outputs": [
    {
     "data": {
      "text/html": [
       "<div>\n",
       "<style scoped>\n",
       "    .dataframe tbody tr th:only-of-type {\n",
       "        vertical-align: middle;\n",
       "    }\n",
       "\n",
       "    .dataframe tbody tr th {\n",
       "        vertical-align: top;\n",
       "    }\n",
       "\n",
       "    .dataframe thead th {\n",
       "        text-align: right;\n",
       "    }\n",
       "</style>\n",
       "<table border=\"1\" class=\"dataframe\">\n",
       "  <thead>\n",
       "    <tr style=\"text-align: right;\">\n",
       "      <th></th>\n",
       "      <th>0</th>\n",
       "      <th>1</th>\n",
       "      <th>10</th>\n",
       "      <th>100</th>\n",
       "      <th>101</th>\n",
       "      <th>102</th>\n",
       "      <th>103</th>\n",
       "      <th>104</th>\n",
       "      <th>105</th>\n",
       "      <th>106</th>\n",
       "      <th>...</th>\n",
       "      <th>90</th>\n",
       "      <th>91</th>\n",
       "      <th>92</th>\n",
       "      <th>93</th>\n",
       "      <th>94</th>\n",
       "      <th>95</th>\n",
       "      <th>96</th>\n",
       "      <th>97</th>\n",
       "      <th>98</th>\n",
       "      <th>99</th>\n",
       "    </tr>\n",
       "    <tr>\n",
       "      <th>user_id</th>\n",
       "      <th></th>\n",
       "      <th></th>\n",
       "      <th></th>\n",
       "      <th></th>\n",
       "      <th></th>\n",
       "      <th></th>\n",
       "      <th></th>\n",
       "      <th></th>\n",
       "      <th></th>\n",
       "      <th></th>\n",
       "      <th></th>\n",
       "      <th></th>\n",
       "      <th></th>\n",
       "      <th></th>\n",
       "      <th></th>\n",
       "      <th></th>\n",
       "      <th></th>\n",
       "      <th></th>\n",
       "      <th></th>\n",
       "      <th></th>\n",
       "      <th></th>\n",
       "    </tr>\n",
       "  </thead>\n",
       "  <tbody>\n",
       "    <tr>\n",
       "      <th>0</th>\n",
       "      <td>0</td>\n",
       "      <td>0</td>\n",
       "      <td>0</td>\n",
       "      <td>0</td>\n",
       "      <td>0</td>\n",
       "      <td>0</td>\n",
       "      <td>0</td>\n",
       "      <td>0</td>\n",
       "      <td>0</td>\n",
       "      <td>0</td>\n",
       "      <td>...</td>\n",
       "      <td>0</td>\n",
       "      <td>0</td>\n",
       "      <td>1</td>\n",
       "      <td>0</td>\n",
       "      <td>0</td>\n",
       "      <td>0</td>\n",
       "      <td>0</td>\n",
       "      <td>0</td>\n",
       "      <td>0</td>\n",
       "      <td>0</td>\n",
       "    </tr>\n",
       "    <tr>\n",
       "      <th>1</th>\n",
       "      <td>1</td>\n",
       "      <td>0</td>\n",
       "      <td>1</td>\n",
       "      <td>1</td>\n",
       "      <td>0</td>\n",
       "      <td>0</td>\n",
       "      <td>0</td>\n",
       "      <td>0</td>\n",
       "      <td>0</td>\n",
       "      <td>0</td>\n",
       "      <td>...</td>\n",
       "      <td>0</td>\n",
       "      <td>0</td>\n",
       "      <td>1</td>\n",
       "      <td>0</td>\n",
       "      <td>0</td>\n",
       "      <td>0</td>\n",
       "      <td>0</td>\n",
       "      <td>0</td>\n",
       "      <td>0</td>\n",
       "      <td>1</td>\n",
       "    </tr>\n",
       "    <tr>\n",
       "      <th>2</th>\n",
       "      <td>1</td>\n",
       "      <td>0</td>\n",
       "      <td>1</td>\n",
       "      <td>1</td>\n",
       "      <td>0</td>\n",
       "      <td>0</td>\n",
       "      <td>0</td>\n",
       "      <td>0</td>\n",
       "      <td>0</td>\n",
       "      <td>0</td>\n",
       "      <td>...</td>\n",
       "      <td>0</td>\n",
       "      <td>0</td>\n",
       "      <td>1</td>\n",
       "      <td>0</td>\n",
       "      <td>0</td>\n",
       "      <td>0</td>\n",
       "      <td>0</td>\n",
       "      <td>0</td>\n",
       "      <td>0</td>\n",
       "      <td>0</td>\n",
       "    </tr>\n",
       "    <tr>\n",
       "      <th>3</th>\n",
       "      <td>0</td>\n",
       "      <td>0</td>\n",
       "      <td>0</td>\n",
       "      <td>0</td>\n",
       "      <td>0</td>\n",
       "      <td>0</td>\n",
       "      <td>0</td>\n",
       "      <td>0</td>\n",
       "      <td>0</td>\n",
       "      <td>0</td>\n",
       "      <td>...</td>\n",
       "      <td>0</td>\n",
       "      <td>0</td>\n",
       "      <td>0</td>\n",
       "      <td>0</td>\n",
       "      <td>0</td>\n",
       "      <td>0</td>\n",
       "      <td>0</td>\n",
       "      <td>0</td>\n",
       "      <td>0</td>\n",
       "      <td>0</td>\n",
       "    </tr>\n",
       "    <tr>\n",
       "      <th>4</th>\n",
       "      <td>1</td>\n",
       "      <td>0</td>\n",
       "      <td>1</td>\n",
       "      <td>1</td>\n",
       "      <td>0</td>\n",
       "      <td>0</td>\n",
       "      <td>0</td>\n",
       "      <td>0</td>\n",
       "      <td>0</td>\n",
       "      <td>0</td>\n",
       "      <td>...</td>\n",
       "      <td>0</td>\n",
       "      <td>0</td>\n",
       "      <td>1</td>\n",
       "      <td>0</td>\n",
       "      <td>0</td>\n",
       "      <td>0</td>\n",
       "      <td>0</td>\n",
       "      <td>0</td>\n",
       "      <td>0</td>\n",
       "      <td>0</td>\n",
       "    </tr>\n",
       "  </tbody>\n",
       "</table>\n",
       "<p>5 rows × 876 columns</p>\n",
       "</div>"
      ],
      "text/plain": [
       "         0  1  10  100  101  102  103  104  105  106  ...  90  91  92  93  94  \\\n",
       "user_id                                               ...                       \n",
       "0        0  0   0    0    0    0    0    0    0    0  ...   0   0   1   0   0   \n",
       "1        1  0   1    1    0    0    0    0    0    0  ...   0   0   1   0   0   \n",
       "2        1  0   1    1    0    0    0    0    0    0  ...   0   0   1   0   0   \n",
       "3        0  0   0    0    0    0    0    0    0    0  ...   0   0   0   0   0   \n",
       "4        1  0   1    1    0    0    0    0    0    0  ...   0   0   1   0   0   \n",
       "\n",
       "         95  96  97  98  99  \n",
       "user_id                      \n",
       "0         0   0   0   0   0  \n",
       "1         0   0   0   0   1  \n",
       "2         0   0   0   0   0  \n",
       "3         0   0   0   0   0  \n",
       "4         0   0   0   0   0  \n",
       "\n",
       "[5 rows x 876 columns]"
      ]
     },
     "execution_count": 74,
     "metadata": {},
     "output_type": "execute_result"
    }
   ],
   "source": [
    "purchases_map.head()"
   ]
  },
  {
   "cell_type": "markdown",
   "id": "56f06efb",
   "metadata": {},
   "source": [
    "### Внешний вид сабмита."
   ]
  },
  {
   "cell_type": "code",
   "execution_count": 75,
   "id": "4d1a6106",
   "metadata": {},
   "outputs": [],
   "source": [
    "sample_submission: pd.DataFrame = pd.read_csv('sample_submission.csv')"
   ]
  },
  {
   "cell_type": "code",
   "execution_count": 76,
   "id": "186d31f8",
   "metadata": {},
   "outputs": [
    {
     "data": {
      "text/html": [
       "<div>\n",
       "<style scoped>\n",
       "    .dataframe tbody tr th:only-of-type {\n",
       "        vertical-align: middle;\n",
       "    }\n",
       "\n",
       "    .dataframe tbody tr th {\n",
       "        vertical-align: top;\n",
       "    }\n",
       "\n",
       "    .dataframe thead th {\n",
       "        text-align: right;\n",
       "    }\n",
       "</style>\n",
       "<table border=\"1\" class=\"dataframe\">\n",
       "  <thead>\n",
       "    <tr style=\"text-align: right;\">\n",
       "      <th></th>\n",
       "      <th>id</th>\n",
       "      <th>target</th>\n",
       "    </tr>\n",
       "  </thead>\n",
       "  <tbody>\n",
       "    <tr>\n",
       "      <th>0</th>\n",
       "      <td>0;133</td>\n",
       "      <td>0</td>\n",
       "    </tr>\n",
       "    <tr>\n",
       "      <th>1</th>\n",
       "      <td>0;5</td>\n",
       "      <td>1</td>\n",
       "    </tr>\n",
       "    <tr>\n",
       "      <th>2</th>\n",
       "      <td>0;10</td>\n",
       "      <td>0</td>\n",
       "    </tr>\n",
       "    <tr>\n",
       "      <th>3</th>\n",
       "      <td>0;396</td>\n",
       "      <td>1</td>\n",
       "    </tr>\n",
       "    <tr>\n",
       "      <th>4</th>\n",
       "      <td>0;14</td>\n",
       "      <td>0</td>\n",
       "    </tr>\n",
       "  </tbody>\n",
       "</table>\n",
       "</div>"
      ],
      "text/plain": [
       "      id  target\n",
       "0  0;133       0\n",
       "1    0;5       1\n",
       "2   0;10       0\n",
       "3  0;396       1\n",
       "4   0;14       0"
      ]
     },
     "execution_count": 76,
     "metadata": {},
     "output_type": "execute_result"
    }
   ],
   "source": [
    "sample_submission.head()"
   ]
  },
  {
   "cell_type": "code",
   "execution_count": 77,
   "id": "f83fa491",
   "metadata": {},
   "outputs": [],
   "source": [
    "sample_submission: pd.DataFrame = sample_submission.drop('target', axis=1)"
   ]
  },
  {
   "cell_type": "code",
   "execution_count": 78,
   "id": "57d067a6",
   "metadata": {},
   "outputs": [],
   "source": [
    "split_id: pd.DataFrame = sample_submission['id'].str.split(';', expand=True)\n",
    "sample_submission_of_mine: pd.DataFrame = pd.concat(\n",
    "    [sample_submission,\n",
    "     split_id], axis=1\n",
    ")\n",
    "sample_submission_of_mine.columns: list = ['id', 'user_id', 'category']"
   ]
  },
  {
   "cell_type": "code",
   "execution_count": 79,
   "id": "f7c57d73",
   "metadata": {
    "scrolled": true
   },
   "outputs": [
    {
     "data": {
      "text/html": [
       "<div>\n",
       "<style scoped>\n",
       "    .dataframe tbody tr th:only-of-type {\n",
       "        vertical-align: middle;\n",
       "    }\n",
       "\n",
       "    .dataframe tbody tr th {\n",
       "        vertical-align: top;\n",
       "    }\n",
       "\n",
       "    .dataframe thead th {\n",
       "        text-align: right;\n",
       "    }\n",
       "</style>\n",
       "<table border=\"1\" class=\"dataframe\">\n",
       "  <thead>\n",
       "    <tr style=\"text-align: right;\">\n",
       "      <th></th>\n",
       "      <th>id</th>\n",
       "      <th>user_id</th>\n",
       "      <th>category</th>\n",
       "    </tr>\n",
       "  </thead>\n",
       "  <tbody>\n",
       "    <tr>\n",
       "      <th>0</th>\n",
       "      <td>0;133</td>\n",
       "      <td>0</td>\n",
       "      <td>133</td>\n",
       "    </tr>\n",
       "    <tr>\n",
       "      <th>1</th>\n",
       "      <td>0;5</td>\n",
       "      <td>0</td>\n",
       "      <td>5</td>\n",
       "    </tr>\n",
       "    <tr>\n",
       "      <th>2</th>\n",
       "      <td>0;10</td>\n",
       "      <td>0</td>\n",
       "      <td>10</td>\n",
       "    </tr>\n",
       "    <tr>\n",
       "      <th>3</th>\n",
       "      <td>0;396</td>\n",
       "      <td>0</td>\n",
       "      <td>396</td>\n",
       "    </tr>\n",
       "    <tr>\n",
       "      <th>4</th>\n",
       "      <td>0;14</td>\n",
       "      <td>0</td>\n",
       "      <td>14</td>\n",
       "    </tr>\n",
       "  </tbody>\n",
       "</table>\n",
       "</div>"
      ],
      "text/plain": [
       "      id user_id category\n",
       "0  0;133       0      133\n",
       "1    0;5       0        5\n",
       "2   0;10       0       10\n",
       "3  0;396       0      396\n",
       "4   0;14       0       14"
      ]
     },
     "execution_count": 79,
     "metadata": {},
     "output_type": "execute_result"
    }
   ],
   "source": [
    "sample_submission_of_mine.head()"
   ]
  },
  {
   "cell_type": "markdown",
   "id": "b41517e1",
   "metadata": {},
   "source": [
    "### Заполнение и сохранение сабмита."
   ]
  },
  {
   "cell_type": "code",
   "execution_count": 80,
   "id": "9769e659",
   "metadata": {},
   "outputs": [],
   "source": [
    "sample_submission_of_mine[\n",
    "    'value_from_purchases_map'\n",
    "] =  sample_submission_of_mine.apply(get_value, axis=1)"
   ]
  },
  {
   "cell_type": "code",
   "execution_count": 81,
   "id": "44a91414",
   "metadata": {},
   "outputs": [],
   "source": [
    "sample_submission_final: pd.DataFrame = sample_submission_of_mine.drop(\n",
    "    ['user_id', 'category'], axis=1\n",
    ")\n",
    "sample_submission_final.columns = ['id', 'target']"
   ]
  },
  {
   "cell_type": "code",
   "execution_count": 82,
   "id": "509a095b",
   "metadata": {},
   "outputs": [],
   "source": [
    "sample_submission_final['target'] = sample_submission_final[\n",
    "    'target'\n",
    "].astype(int)"
   ]
  },
  {
   "cell_type": "code",
   "execution_count": 83,
   "id": "1bb615a0",
   "metadata": {},
   "outputs": [
    {
     "data": {
      "text/html": [
       "<div>\n",
       "<style scoped>\n",
       "    .dataframe tbody tr th:only-of-type {\n",
       "        vertical-align: middle;\n",
       "    }\n",
       "\n",
       "    .dataframe tbody tr th {\n",
       "        vertical-align: top;\n",
       "    }\n",
       "\n",
       "    .dataframe thead th {\n",
       "        text-align: right;\n",
       "    }\n",
       "</style>\n",
       "<table border=\"1\" class=\"dataframe\">\n",
       "  <thead>\n",
       "    <tr style=\"text-align: right;\">\n",
       "      <th></th>\n",
       "      <th>id</th>\n",
       "      <th>target</th>\n",
       "    </tr>\n",
       "  </thead>\n",
       "  <tbody>\n",
       "    <tr>\n",
       "      <th>0</th>\n",
       "      <td>0;133</td>\n",
       "      <td>0</td>\n",
       "    </tr>\n",
       "    <tr>\n",
       "      <th>1</th>\n",
       "      <td>0;5</td>\n",
       "      <td>1</td>\n",
       "    </tr>\n",
       "    <tr>\n",
       "      <th>2</th>\n",
       "      <td>0;10</td>\n",
       "      <td>0</td>\n",
       "    </tr>\n",
       "    <tr>\n",
       "      <th>3</th>\n",
       "      <td>0;396</td>\n",
       "      <td>1</td>\n",
       "    </tr>\n",
       "    <tr>\n",
       "      <th>4</th>\n",
       "      <td>0;14</td>\n",
       "      <td>1</td>\n",
       "    </tr>\n",
       "  </tbody>\n",
       "</table>\n",
       "</div>"
      ],
      "text/plain": [
       "      id  target\n",
       "0  0;133       0\n",
       "1    0;5       1\n",
       "2   0;10       0\n",
       "3  0;396       1\n",
       "4   0;14       1"
      ]
     },
     "execution_count": 83,
     "metadata": {},
     "output_type": "execute_result"
    }
   ],
   "source": [
    "sample_submission_final.head()"
   ]
  },
  {
   "cell_type": "code",
   "execution_count": 84,
   "id": "07a493df",
   "metadata": {},
   "outputs": [],
   "source": [
    "sample_submission_final.to_csv('my_sample_submission.csv', index=False)"
   ]
  },
  {
   "cell_type": "markdown",
   "id": "4e59f811",
   "metadata": {},
   "source": [
    "К сожалению, результаты тестирования сабмита показали метрику F1, равную $0.35524$, что значительно ниже установленного базового уровня."
   ]
  },
  {
   "cell_type": "markdown",
   "id": "59c97b83",
   "metadata": {},
   "source": [
    "## Вывод."
   ]
  },
  {
   "cell_type": "markdown",
   "id": "48501c94",
   "metadata": {},
   "source": [
    "В данной работе была выполнена обширная аналитика данных, направленная на исследование и прогнозирование поведения покупателей в интернет-магазине. Проведенные анализы выявили интересные закономерности и тенденции, связанные с динамикой продаж, изменениями в предпочтениях покупателей и эффективностью моделей прогнозирования.\n",
    "\n",
    "Было выявлено, что распределение количества заказов по покупателям имеет форму яркого Пуассоновского распределения без выраженных аномалий. Однако, анализ поведения покупателей показал, что их интересы к товарам изменяются со временем, и поэтому для прогнозирования было решено использовать только данные, начиная с момента увеличения популярности магазина, то есть с 2019 года.\n",
    "\n",
    "В данном проекте была разработана feed-forward нейронная сеть для прогнозирования поведения покупателей в интернет-магазине. Модель была протестирована на различных наборах гиперпараметров с целью оптимизации ее производительности.\n",
    "\n",
    "Несмотря на проведенные оптимизации и эксперименты с гиперпараметрами модели, некоторые результаты на тестовой выборке оказались неудовлетворительными. Это указывает на необходимость дальнейшего улучшения модели, возможно, путем внедрения дополнительных признаков, изменения структуры сети или более тщательной настройки гиперпараметров."
   ]
  },
  {
   "attachments": {
    "image.png": {
     "image/png": "[encoded data removed]"
    }
   },
   "cell_type": "markdown",
   "id": "db94c28d",
   "metadata": {},
   "source": [
    "![image.png](attachment:image.png)"
   ]
  }
 ],
 "metadata": {
  "kernelspec": {
   "display_name": "Python 3 (ipykernel)",
   "language": "python",
   "name": "python3"
  },
  "language_info": {
   "codemirror_mode": {
    "name": "ipython",
    "version": 3
   },
   "file_extension": ".py",
   "mimetype": "text/x-python",
   "name": "python",
   "nbconvert_exporter": "python",
   "pygments_lexer": "ipython3",
   "version": "3.11.5"
  },
  "toc": {
   "base_numbering": 1,
   "nav_menu": {},
   "number_sections": true,
   "sideBar": true,
   "skip_h1_title": true,
   "title_cell": "Оглавление.",
   "title_sidebar": "Contents",
   "toc_cell": true,
   "toc_position": {
    "height": "calc(100% - 180px)",
    "left": "10px",
    "top": "150px",
    "width": "406.516px"
   },
   "toc_section_display": true,
   "toc_window_display": true
  },
  "varInspector": {
   "cols": {
    "lenName": 16,
    "lenType": 16,
    "lenVar": 40
   },
   "kernels_config": {
    "python": {
     "delete_cmd_postfix": "",
     "delete_cmd_prefix": "del ",
     "library": "var_list.py",
     "varRefreshCmd": "print(var_dic_list())"
    },
    "r": {
     "delete_cmd_postfix": ") ",
     "delete_cmd_prefix": "rm(",
     "library": "var_list.r",
     "varRefreshCmd": "cat(var_dic_list()) "
    }
   },
   "types_to_exclude": [
    "module",
    "function",
    "builtin_function_or_method",
    "instance",
    "_Feature"
   ],
   "window_display": false
  }
 },
 "nbformat": 4,
 "nbformat_minor": 5
}
